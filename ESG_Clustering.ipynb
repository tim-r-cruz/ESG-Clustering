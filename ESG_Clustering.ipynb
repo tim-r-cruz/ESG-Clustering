{
 "cells": [
  {
   "cell_type": "code",
   "execution_count": 24,
   "metadata": {},
   "outputs": [
    {
     "data": {
      "text/html": [
       "<script>\n",
       "code_show=true; \n",
       "function code_toggle() {\n",
       " if (code_show){\n",
       " $('div.input').hide();\n",
       " } else {\n",
       " $('div.input').show();\n",
       " }\n",
       " code_show = !code_show\n",
       "} \n",
       "$( document ).ready(code_toggle);\n",
       "</script>\n",
       "The raw code for this IPython notebook is by default hidden for easier reading.\n",
       "To toggle on/off the raw code, click <a href=\"javascript:code_toggle()\">here</a>."
      ],
      "text/plain": [
       "<IPython.core.display.HTML object>"
      ]
     },
     "execution_count": 24,
     "metadata": {},
     "output_type": "execute_result"
    }
   ],
   "source": [
    "from IPython.display import HTML\n",
    "\n",
    "HTML('''<script>\n",
    "code_show=true; \n",
    "function code_toggle() {\n",
    " if (code_show){\n",
    " $('div.input').hide();\n",
    " } else {\n",
    " $('div.input').show();\n",
    " }\n",
    " code_show = !code_show\n",
    "} \n",
    "$( document ).ready(code_toggle);\n",
    "</script>\n",
    "The raw code for this IPython notebook is by default hidden for easier reading.\n",
    "To toggle on/off the raw code, click <a href=\"javascript:code_toggle()\">here</a>.''')"
   ]
  },
  {
   "cell_type": "code",
   "execution_count": 2,
   "metadata": {},
   "outputs": [],
   "source": [
    "import numpy as np\n",
    "import scipy as sp\n",
    "import random\n",
    "import string\n",
    "import scipy.spatial.distance as spd\n",
    "import scipy.cluster.hierarchy as sph\n",
    "import sklearn as sk\n",
    "import sklearn.metrics as skm\n",
    "import sklearn.cluster as skc\n",
    "from sklearn.cluster import KMeans\n",
    "import sklearn.decomposition as skd\n",
    "import sklearn.mixture as skmix\n",
    "import pandas as pd\n",
    "import matplotlib.pyplot as plt\n",
    "%matplotlib inline\n",
    "import seaborn as sns\n",
    "import plotly.graph_objects as go\n",
    "sns.set(style='white', color_codes=True, font_scale=1.3)"
   ]
  },
  {
   "cell_type": "markdown",
   "metadata": {
    "slideshow": {
     "slide_type": "slide"
    }
   },
   "source": [
    "### Dataset Generation: \n",
    "\n",
    "To ensure that unsupervised learning methods can work on data of this shape, a syntethic dataset was created which follows the form of available ESG data on Yahoo Finance. A score for Environment, Social and Governance factors are provided, along with a randomly generated 4-character ticker. \n",
    "\n",
    "By generating the data in this format, the same code can be used and run once the real data is pulled from Yahoo finance. "
   ]
  },
  {
   "cell_type": "code",
   "execution_count": 12,
   "metadata": {},
   "outputs": [
    {
     "data": {
      "text/html": [
       "<div>\n",
       "<style scoped>\n",
       "    .dataframe tbody tr th:only-of-type {\n",
       "        vertical-align: middle;\n",
       "    }\n",
       "\n",
       "    .dataframe tbody tr th {\n",
       "        vertical-align: top;\n",
       "    }\n",
       "\n",
       "    .dataframe thead th {\n",
       "        text-align: right;\n",
       "    }\n",
       "</style>\n",
       "<table border=\"1\" class=\"dataframe\">\n",
       "  <thead>\n",
       "    <tr style=\"text-align: right;\">\n",
       "      <th></th>\n",
       "      <th>Environment</th>\n",
       "      <th>Social</th>\n",
       "      <th>Governance</th>\n",
       "      <th>Ticker</th>\n",
       "    </tr>\n",
       "  </thead>\n",
       "  <tbody>\n",
       "    <tr>\n",
       "      <th>0</th>\n",
       "      <td>-6.682264</td>\n",
       "      <td>2.823827</td>\n",
       "      <td>-6.264585</td>\n",
       "      <td>OENC</td>\n",
       "    </tr>\n",
       "    <tr>\n",
       "      <th>1</th>\n",
       "      <td>4.493727</td>\n",
       "      <td>3.525366</td>\n",
       "      <td>0.599514</td>\n",
       "      <td>SHBV</td>\n",
       "    </tr>\n",
       "    <tr>\n",
       "      <th>2</th>\n",
       "      <td>45.918882</td>\n",
       "      <td>68.200288</td>\n",
       "      <td>48.392054</td>\n",
       "      <td>CZUC</td>\n",
       "    </tr>\n",
       "    <tr>\n",
       "      <th>3</th>\n",
       "      <td>3.087074</td>\n",
       "      <td>22.140585</td>\n",
       "      <td>-6.319126</td>\n",
       "      <td>DMOP</td>\n",
       "    </tr>\n",
       "    <tr>\n",
       "      <th>4</th>\n",
       "      <td>88.200387</td>\n",
       "      <td>81.475536</td>\n",
       "      <td>79.691774</td>\n",
       "      <td>YXQB</td>\n",
       "    </tr>\n",
       "  </tbody>\n",
       "</table>\n",
       "</div>"
      ],
      "text/plain": [
       "   Environment     Social  Governance Ticker\n",
       "0    -6.682264   2.823827   -6.264585   OENC\n",
       "1     4.493727   3.525366    0.599514   SHBV\n",
       "2    45.918882  68.200288   48.392054   CZUC\n",
       "3     3.087074  22.140585   -6.319126   DMOP\n",
       "4    88.200387  81.475536   79.691774   YXQB"
      ]
     },
     "execution_count": 12,
     "metadata": {},
     "output_type": "execute_result"
    }
   ],
   "source": [
    "# Generate Random Data: \n",
    "from sklearn.datasets.samples_generator import make_blobs\n",
    "X, y = make_blobs(n_samples=100, \n",
    "                  centers=[(10, 10, 10), (50, 50, 50), (90, 90, 90)], \n",
    "                  cluster_std=10, \n",
    "                  n_features=3)\n",
    "\n",
    "df = pd.DataFrame(X, columns=['Environment', 'Social', 'Governance'])\n",
    "df['Ticker'] = [''.join(random.choices(string.ascii_uppercase, k=4)) for i in range(len(df))]\n",
    "df.head()"
   ]
  },
  {
   "cell_type": "code",
   "execution_count": 13,
   "metadata": {},
   "outputs": [],
   "source": [
    "def elbow(df, pair): \n",
    "    # Elbow method to Determine K \n",
    "    X = df \n",
    "    K = range(1,11)  # Apply kmeans 1 to 10\n",
    "    kmeans_models = [KMeans(k).fit(X) for k in K]\n",
    "    centroids = [m.cluster_centers_ for m in kmeans_models]\n",
    "    D_k = [spd.cdist(X, cent, 'euclidean') for cent in centroids]\n",
    "    cIdx = [np.argmin(D,axis=1) for D in D_k]\n",
    "    dist = [np.min(D,axis=1) for D in D_k]\n",
    "    avgWithinSS = [sum(d)/X.shape[0] for d in dist]\n",
    "\n",
    "    # plot elbow curve\n",
    "    plt.figure(figsize = (7,7))\n",
    "    plt.plot(K, avgWithinSS, 'b*-')\n",
    "    plt.xlabel('Number of clusters');\n",
    "    plt.ylabel('Average within-cluster sum of squares');\n",
    "    plt.title('Elbow for K-Means clustering');\n",
    "    plt.suptitle('{}'.format(pair))\n",
    "    plt.show()\n",
    "\n",
    "# A helper function to run and plot K-means:     \n",
    "def kmeans(df, pair, k):\n",
    "    # Fitting the K-Means model: \n",
    "    k_means_model = KMeans(n_clusters=k)\n",
    "    k_means_model.fit(df)\n",
    "    centroids = k_means_model.cluster_centers_\n",
    "    centroids\n",
    "\n",
    "    # Plot the clusters with their centroids.\n",
    "    df['cluster_labels_kmeans'] = k_means_model.labels_\n",
    "    f = sns.lmplot(x=pair[0], y=pair[1], data=df, hue = 'cluster_labels_kmeans', \n",
    "                   fit_reg=False, size=5, aspect=1.3)\n",
    "    f.ax.scatter(centroids[:,0], centroids[:,1], marker='+', s=100,\n",
    "                 linewidths=2, color='k');\n",
    "    plt.title('{}'.format(pair), fontsize=15)"
   ]
  },
  {
   "cell_type": "markdown",
   "metadata": {
    "slideshow": {
     "slide_type": "slide"
    }
   },
   "source": [
    "### Cluster Identification: \n",
    "\n",
    "The following plot identifies the optimal number of groups to detect in the dataset. Typically, the optimal number of groups is shown by the \"elbow\" in the plot. At this point, finding additional groups beyond the elbow yield no more information. These groups would associate to ESG rankings - \"Underperformers\", \"Average Performers\" and \"Overperformers\". "
   ]
  },
  {
   "cell_type": "code",
   "execution_count": 14,
   "metadata": {},
   "outputs": [
    {
     "data": {
      "image/png": "[encoded data removed]",
      "text/plain": [
       "<Figure size 504x504 with 1 Axes>"
      ]
     },
     "metadata": {
      "needs_background": "light"
     },
     "output_type": "display_data"
    }
   ],
   "source": [
    "elbow(df[['Environment', 'Social', 'Governance']], ['Environment', 'Social', 'Governance'])"
   ]
  },
  {
   "cell_type": "markdown",
   "metadata": {
    "slideshow": {
     "slide_type": "slide"
    }
   },
   "source": [
    "### K-Means Clustering with Interactive Visualization: \n",
    "\n",
    "Here - we demonstrate the findings of the K-means unsupervised learning method. The algorithm successfully identified 3 groups, which represent the ESG \"Underperformers\", \"Average Performars\" and \"Over Performers\". The findings of this algorithm are data dependent, so it has yet to be determined if the same results will arise on the real data set. \n",
    "\n",
    "The insights of unsupervised learning allow users to find mathematical structure in the data. By looking at this, a company would be able to see a more robust representation of their ESG performance against their peers. While the visualization is simple, it demonstrates that there is a _material_ effect on sustainalytics rankings on a given company's perception in the public. "
   ]
  },
  {
   "cell_type": "code",
   "execution_count": 15,
   "metadata": {},
   "outputs": [
    {
     "data": {
      "application/vnd.plotly.v1+json": {
       "config": {
        "plotlyServerURL": "https://plot.ly"
       },
       "data": [
        {
         "marker": {
          "color": [
           0,
           0,
           2,
           0,
           1,
           1,
           1,
           0,
           1,
           0,
           2,
           1,
           1,
           2,
           0,
           1,
           0,
           2,
           2,
           2,
           1,
           0,
           2,
           2,
           1,
           1,
           0,
           0,
           1,
           0,
           2,
           2,
           2,
           0,
           2,
           0,
           1,
           1,
           2,
           1,
           1,
           0,
           0,
           1,
           0,
           0,
           0,
           0,
           1,
           0,
           1,
           2,
           0,
           1,
           2,
           1,
           0,
           0,
           0,
           0,
           1,
           0,
           2,
           2,
           2,
           2,
           0,
           0,
           2,
           1,
           2,
           1,
           2,
           1,
           2,
           2,
           1,
           1,
           2,
           1,
           2,
           2,
           0,
           1,
           2,
           1,
           1,
           1,
           1,
           0,
           0,
           2,
           2,
           2,
           0,
           1,
           0,
           0,
           2,
           2
          ],
          "colorscale": [
           [
            0,
            "rgb(12,51,131)"
           ],
           [
            0.25,
            "rgb(10,136,186)"
           ],
           [
            0.5,
            "rgb(242,211,56)"
           ],
           [
            0.75,
            "rgb(242,143,56)"
           ],
           [
            1,
            "rgb(217,30,30)"
           ]
          ]
         },
         "mode": "markers",
         "name": "markers",
         "text": [
          "OENC",
          "SHBV",
          "CZUC",
          "DMOP",
          "YXQB",
          "TTCX",
          "VPHW",
          "KIQG",
          "VPWD",
          "CULI",
          "LXFS",
          "LUKG",
          "DRWB",
          "KMQH",
          "EVRJ",
          "FNVC",
          "WVQT",
          "UBVW",
          "MJIV",
          "FIUT",
          "WUOB",
          "LPUI",
          "LSDI",
          "NWKQ",
          "ZYIH",
          "NCWD",
          "TKZP",
          "UHIG",
          "NVKE",
          "RBSR",
          "XMQI",
          "LKOI",
          "MUMX",
          "JBBA",
          "PFEI",
          "ENAD",
          "VUWL",
          "SPPW",
          "BSXO",
          "OJZC",
          "QNAH",
          "SWQB",
          "AISW",
          "YFRO",
          "MCEA",
          "VKWS",
          "BRUX",
          "WSAG",
          "XHFJ",
          "OCMI",
          "ENGN",
          "QLDY",
          "JVOI",
          "LMTM",
          "RGGS",
          "KARA",
          "JMAN",
          "HUMO",
          "OJBG",
          "ISCM",
          "VIFT",
          "EMYN",
          "PNAX",
          "HYDT",
          "FBQS",
          "DYVU",
          "TDCB",
          "BOIN",
          "VFEP",
          "TMDG",
          "WAUJ",
          "KWUR",
          "MXKM",
          "CDKH",
          "XOON",
          "FGVN",
          "CBAK",
          "OZPU",
          "MZAZ",
          "JXLJ",
          "MHBN",
          "HYIB",
          "TMFL",
          "OEPA",
          "USBM",
          "YHUU",
          "AUYC",
          "YIPG",
          "LLIQ",
          "VTLK",
          "CRJY",
          "NLSC",
          "XLHT",
          "SIYX",
          "KRRS",
          "VGOF",
          "CEWZ",
          "FOAW",
          "MVXY",
          "LWCL"
         ],
         "type": "scatter",
         "x": [
          -6.682263553252593,
          4.493726711496006,
          45.91888246956397,
          3.087073763817444,
          88.20038678176284,
          99.95883815927145,
          92.67478982919788,
          4.618131959448796,
          97.64930833401213,
          9.882595051681268,
          53.47581292579052,
          110.2092085936574,
          78.84025709411081,
          52.831253004562136,
          0.34088451313755286,
          91.61989899769812,
          5.312927078150096,
          73.01991017521257,
          37.667357620250435,
          57.276192862117576,
          94.46161065788328,
          2.885694529460813,
          44.797572755175125,
          61.11327138796837,
          97.88707747917817,
          99.02250740804243,
          8.106565830466923,
          20.13458840578759,
          88.26918387830108,
          14.559273828810962,
          51.85592048300914,
          46.12648030032554,
          53.7728180616947,
          6.265452244825574,
          56.83802497004785,
          13.468759601577284,
          95.64406336050722,
          99.03882877844438,
          59.00945499189061,
          88.90611047452536,
          110.32602711860832,
          23.013201427367612,
          9.781642485994329,
          103.24842452702762,
          15.454159145819776,
          2.8416179163509767,
          -5.319561472857126,
          1.8525716874029925,
          96.42629284384951,
          8.923417952531441,
          86.67584359924261,
          37.571244560271964,
          3.295615010618822,
          87.7287758981266,
          43.24508110070352,
          71.28694252153076,
          -7.072534878877409,
          2.643720257992383,
          22.085290514086395,
          12.925094792157992,
          69.44650843477876,
          19.2081730279596,
          37.59266019818846,
          45.2201738749921,
          47.48526567342296,
          44.43636049580146,
          24.289336368521013,
          10.017197098145807,
          48.65540763293299,
          80.76795964512353,
          48.49418799601931,
          88.92915555370543,
          53.92594220356617,
          92.25868725378508,
          51.74359769122983,
          51.973022157730604,
          104.22246633669187,
          91.75293022884246,
          54.93293978208242,
          92.69008508264068,
          40.26346022471407,
          55.00885620014331,
          3.465964648158602,
          101.37841863770531,
          51.12904027987673,
          76.6134617879798,
          83.94854758338316,
          73.8042542568829,
          83.60636803149549,
          1.165261798592427,
          0.34637267672748884,
          39.81460269107515,
          37.585312018108766,
          60.315856546112094,
          7.732773173999497,
          78.6246365427608,
          17.607042117187305,
          10.48226179246327,
          38.487915888115324,
          64.85687933848432
         ],
         "y": [
          2.8238271144226577,
          3.525366162586155,
          68.2002883346066,
          22.14058536890127,
          81.47553557526797,
          94.06830325824158,
          77.45899973259984,
          17.73840580894757,
          79.13229307492679,
          29.158345559039685,
          35.50012011964243,
          100.79954507769222,
          83.1258350533757,
          52.09571129359182,
          4.356525660388227,
          108.09909333317384,
          11.431102835992679,
          54.218275683687885,
          71.5547348977934,
          60.35752773372831,
          107.02374227755479,
          4.220432915490982,
          55.369165140816335,
          58.74054360668719,
          105.33585176872988,
          79.39285245963849,
          14.78437518432402,
          -5.908759920715658,
          73.47599822680888,
          12.116032985630344,
          59.9832747465134,
          47.09432178374082,
          24.78268866667832,
          -5.0475012291309085,
          58.25713954826636,
          12.540964992694647,
          106.63177637526007,
          91.39768181073136,
          45.60158817284647,
          85.00864142441922,
          79.54405608679453,
          11.50982063960828,
          26.071705379879184,
          81.22256122756139,
          15.890893701633324,
          4.660560109240171,
          -0.042382679745891494,
          16.122545176675075,
          107.80502100014104,
          29.28419006026408,
          98.83143627795769,
          53.24021071655853,
          -11.376778778972753,
          93.53122023329118,
          55.96752862789539,
          103.31563324813504,
          7.081270683784365,
          26.42658382311725,
          -3.774509980203103,
          1.149248951920363,
          111.11059715172809,
          17.443732849235033,
          48.22153441797913,
          48.92272554090465,
          51.38852779488221,
          52.6031677930668,
          22.73876025657594,
          11.465223214245023,
          43.553743032488796,
          93.6176245330755,
          48.580714906770936,
          90.40729168751527,
          55.185468985962515,
          113.00048465209416,
          46.56570094656178,
          53.97806759587428,
          85.13210709081999,
          87.40721752726402,
          62.31210044509052,
          95.92853653545691,
          66.58962604771175,
          42.46995261318621,
          8.961597649973411,
          103.47490881588708,
          36.8976804382692,
          94.49171154763415,
          98.37045555529437,
          106.73196147870374,
          87.61113249072119,
          3.1601474152587965,
          13.719064631925868,
          33.39155194403222,
          35.1370063023024,
          63.64864461872101,
          16.363420319094555,
          81.6025773324572,
          8.76122425334745,
          7.577362494553255,
          33.10922909405944,
          54.67607407355578
         ]
        }
       ],
       "layout": {
        "hovermode": "closest",
        "template": {
         "data": {
          "bar": [
           {
            "error_x": {
             "color": "#2a3f5f"
            },
            "error_y": {
             "color": "#2a3f5f"
            },
            "marker": {
             "line": {
              "color": "#E5ECF6",
              "width": 0.5
             }
            },
            "type": "bar"
           }
          ],
          "barpolar": [
           {
            "marker": {
             "line": {
              "color": "#E5ECF6",
              "width": 0.5
             }
            },
            "type": "barpolar"
           }
          ],
          "carpet": [
           {
            "aaxis": {
             "endlinecolor": "#2a3f5f",
             "gridcolor": "white",
             "linecolor": "white",
             "minorgridcolor": "white",
             "startlinecolor": "#2a3f5f"
            },
            "baxis": {
             "endlinecolor": "#2a3f5f",
             "gridcolor": "white",
             "linecolor": "white",
             "minorgridcolor": "white",
             "startlinecolor": "#2a3f5f"
            },
            "type": "carpet"
           }
          ],
          "choropleth": [
           {
            "colorbar": {
             "outlinewidth": 0,
             "ticks": ""
            },
            "type": "choropleth"
           }
          ],
          "contour": [
           {
            "colorbar": {
             "outlinewidth": 0,
             "ticks": ""
            },
            "colorscale": [
             [
              0,
              "#0d0887"
             ],
             [
              0.1111111111111111,
              "#46039f"
             ],
             [
              0.2222222222222222,
              "#7201a8"
             ],
             [
              0.3333333333333333,
              "#9c179e"
             ],
             [
              0.4444444444444444,
              "#bd3786"
             ],
             [
              0.5555555555555556,
              "#d8576b"
             ],
             [
              0.6666666666666666,
              "#ed7953"
             ],
             [
              0.7777777777777778,
              "#fb9f3a"
             ],
             [
              0.8888888888888888,
              "#fdca26"
             ],
             [
              1,
              "#f0f921"
             ]
            ],
            "type": "contour"
           }
          ],
          "contourcarpet": [
           {
            "colorbar": {
             "outlinewidth": 0,
             "ticks": ""
            },
            "type": "contourcarpet"
           }
          ],
          "heatmap": [
           {
            "colorbar": {
             "outlinewidth": 0,
             "ticks": ""
            },
            "colorscale": [
             [
              0,
              "#0d0887"
             ],
             [
              0.1111111111111111,
              "#46039f"
             ],
             [
              0.2222222222222222,
              "#7201a8"
             ],
             [
              0.3333333333333333,
              "#9c179e"
             ],
             [
              0.4444444444444444,
              "#bd3786"
             ],
             [
              0.5555555555555556,
              "#d8576b"
             ],
             [
              0.6666666666666666,
              "#ed7953"
             ],
             [
              0.7777777777777778,
              "#fb9f3a"
             ],
             [
              0.8888888888888888,
              "#fdca26"
             ],
             [
              1,
              "#f0f921"
             ]
            ],
            "type": "heatmap"
           }
          ],
          "heatmapgl": [
           {
            "colorbar": {
             "outlinewidth": 0,
             "ticks": ""
            },
            "colorscale": [
             [
              0,
              "#0d0887"
             ],
             [
              0.1111111111111111,
              "#46039f"
             ],
             [
              0.2222222222222222,
              "#7201a8"
             ],
             [
              0.3333333333333333,
              "#9c179e"
             ],
             [
              0.4444444444444444,
              "#bd3786"
             ],
             [
              0.5555555555555556,
              "#d8576b"
             ],
             [
              0.6666666666666666,
              "#ed7953"
             ],
             [
              0.7777777777777778,
              "#fb9f3a"
             ],
             [
              0.8888888888888888,
              "#fdca26"
             ],
             [
              1,
              "#f0f921"
             ]
            ],
            "type": "heatmapgl"
           }
          ],
          "histogram": [
           {
            "marker": {
             "colorbar": {
              "outlinewidth": 0,
              "ticks": ""
             }
            },
            "type": "histogram"
           }
          ],
          "histogram2d": [
           {
            "colorbar": {
             "outlinewidth": 0,
             "ticks": ""
            },
            "colorscale": [
             [
              0,
              "#0d0887"
             ],
             [
              0.1111111111111111,
              "#46039f"
             ],
             [
              0.2222222222222222,
              "#7201a8"
             ],
             [
              0.3333333333333333,
              "#9c179e"
             ],
             [
              0.4444444444444444,
              "#bd3786"
             ],
             [
              0.5555555555555556,
              "#d8576b"
             ],
             [
              0.6666666666666666,
              "#ed7953"
             ],
             [
              0.7777777777777778,
              "#fb9f3a"
             ],
             [
              0.8888888888888888,
              "#fdca26"
             ],
             [
              1,
              "#f0f921"
             ]
            ],
            "type": "histogram2d"
           }
          ],
          "histogram2dcontour": [
           {
            "colorbar": {
             "outlinewidth": 0,
             "ticks": ""
            },
            "colorscale": [
             [
              0,
              "#0d0887"
             ],
             [
              0.1111111111111111,
              "#46039f"
             ],
             [
              0.2222222222222222,
              "#7201a8"
             ],
             [
              0.3333333333333333,
              "#9c179e"
             ],
             [
              0.4444444444444444,
              "#bd3786"
             ],
             [
              0.5555555555555556,
              "#d8576b"
             ],
             [
              0.6666666666666666,
              "#ed7953"
             ],
             [
              0.7777777777777778,
              "#fb9f3a"
             ],
             [
              0.8888888888888888,
              "#fdca26"
             ],
             [
              1,
              "#f0f921"
             ]
            ],
            "type": "histogram2dcontour"
           }
          ],
          "mesh3d": [
           {
            "colorbar": {
             "outlinewidth": 0,
             "ticks": ""
            },
            "type": "mesh3d"
           }
          ],
          "parcoords": [
           {
            "line": {
             "colorbar": {
              "outlinewidth": 0,
              "ticks": ""
             }
            },
            "type": "parcoords"
           }
          ],
          "scatter": [
           {
            "marker": {
             "colorbar": {
              "outlinewidth": 0,
              "ticks": ""
             }
            },
            "type": "scatter"
           }
          ],
          "scatter3d": [
           {
            "line": {
             "colorbar": {
              "outlinewidth": 0,
              "ticks": ""
             }
            },
            "marker": {
             "colorbar": {
              "outlinewidth": 0,
              "ticks": ""
             }
            },
            "type": "scatter3d"
           }
          ],
          "scattercarpet": [
           {
            "marker": {
             "colorbar": {
              "outlinewidth": 0,
              "ticks": ""
             }
            },
            "type": "scattercarpet"
           }
          ],
          "scattergeo": [
           {
            "marker": {
             "colorbar": {
              "outlinewidth": 0,
              "ticks": ""
             }
            },
            "type": "scattergeo"
           }
          ],
          "scattergl": [
           {
            "marker": {
             "colorbar": {
              "outlinewidth": 0,
              "ticks": ""
             }
            },
            "type": "scattergl"
           }
          ],
          "scattermapbox": [
           {
            "marker": {
             "colorbar": {
              "outlinewidth": 0,
              "ticks": ""
             }
            },
            "type": "scattermapbox"
           }
          ],
          "scatterpolar": [
           {
            "marker": {
             "colorbar": {
              "outlinewidth": 0,
              "ticks": ""
             }
            },
            "type": "scatterpolar"
           }
          ],
          "scatterpolargl": [
           {
            "marker": {
             "colorbar": {
              "outlinewidth": 0,
              "ticks": ""
             }
            },
            "type": "scatterpolargl"
           }
          ],
          "scatterternary": [
           {
            "marker": {
             "colorbar": {
              "outlinewidth": 0,
              "ticks": ""
             }
            },
            "type": "scatterternary"
           }
          ],
          "surface": [
           {
            "colorbar": {
             "outlinewidth": 0,
             "ticks": ""
            },
            "colorscale": [
             [
              0,
              "#0d0887"
             ],
             [
              0.1111111111111111,
              "#46039f"
             ],
             [
              0.2222222222222222,
              "#7201a8"
             ],
             [
              0.3333333333333333,
              "#9c179e"
             ],
             [
              0.4444444444444444,
              "#bd3786"
             ],
             [
              0.5555555555555556,
              "#d8576b"
             ],
             [
              0.6666666666666666,
              "#ed7953"
             ],
             [
              0.7777777777777778,
              "#fb9f3a"
             ],
             [
              0.8888888888888888,
              "#fdca26"
             ],
             [
              1,
              "#f0f921"
             ]
            ],
            "type": "surface"
           }
          ],
          "table": [
           {
            "cells": {
             "fill": {
              "color": "#EBF0F8"
             },
             "line": {
              "color": "white"
             }
            },
            "header": {
             "fill": {
              "color": "#C8D4E3"
             },
             "line": {
              "color": "white"
             }
            },
            "type": "table"
           }
          ]
         },
         "layout": {
          "annotationdefaults": {
           "arrowcolor": "#2a3f5f",
           "arrowhead": 0,
           "arrowwidth": 1
          },
          "colorscale": {
           "diverging": [
            [
             0,
             "#8e0152"
            ],
            [
             0.1,
             "#c51b7d"
            ],
            [
             0.2,
             "#de77ae"
            ],
            [
             0.3,
             "#f1b6da"
            ],
            [
             0.4,
             "#fde0ef"
            ],
            [
             0.5,
             "#f7f7f7"
            ],
            [
             0.6,
             "#e6f5d0"
            ],
            [
             0.7,
             "#b8e186"
            ],
            [
             0.8,
             "#7fbc41"
            ],
            [
             0.9,
             "#4d9221"
            ],
            [
             1,
             "#276419"
            ]
           ],
           "sequential": [
            [
             0,
             "#0d0887"
            ],
            [
             0.1111111111111111,
             "#46039f"
            ],
            [
             0.2222222222222222,
             "#7201a8"
            ],
            [
             0.3333333333333333,
             "#9c179e"
            ],
            [
             0.4444444444444444,
             "#bd3786"
            ],
            [
             0.5555555555555556,
             "#d8576b"
            ],
            [
             0.6666666666666666,
             "#ed7953"
            ],
            [
             0.7777777777777778,
             "#fb9f3a"
            ],
            [
             0.8888888888888888,
             "#fdca26"
            ],
            [
             1,
             "#f0f921"
            ]
           ],
           "sequentialminus": [
            [
             0,
             "#0d0887"
            ],
            [
             0.1111111111111111,
             "#46039f"
            ],
            [
             0.2222222222222222,
             "#7201a8"
            ],
            [
             0.3333333333333333,
             "#9c179e"
            ],
            [
             0.4444444444444444,
             "#bd3786"
            ],
            [
             0.5555555555555556,
             "#d8576b"
            ],
            [
             0.6666666666666666,
             "#ed7953"
            ],
            [
             0.7777777777777778,
             "#fb9f3a"
            ],
            [
             0.8888888888888888,
             "#fdca26"
            ],
            [
             1,
             "#f0f921"
            ]
           ]
          },
          "colorway": [
           "#636efa",
           "#EF553B",
           "#00cc96",
           "#ab63fa",
           "#FFA15A",
           "#19d3f3",
           "#FF6692",
           "#B6E880",
           "#FF97FF",
           "#FECB52"
          ],
          "font": {
           "color": "#2a3f5f"
          },
          "geo": {
           "bgcolor": "white",
           "lakecolor": "white",
           "landcolor": "#E5ECF6",
           "showlakes": true,
           "showland": true,
           "subunitcolor": "white"
          },
          "hoverlabel": {
           "align": "left"
          },
          "hovermode": "closest",
          "mapbox": {
           "style": "light"
          },
          "paper_bgcolor": "white",
          "plot_bgcolor": "#E5ECF6",
          "polar": {
           "angularaxis": {
            "gridcolor": "white",
            "linecolor": "white",
            "ticks": ""
           },
           "bgcolor": "#E5ECF6",
           "radialaxis": {
            "gridcolor": "white",
            "linecolor": "white",
            "ticks": ""
           }
          },
          "scene": {
           "xaxis": {
            "backgroundcolor": "#E5ECF6",
            "gridcolor": "white",
            "gridwidth": 2,
            "linecolor": "white",
            "showbackground": true,
            "ticks": "",
            "zerolinecolor": "white"
           },
           "yaxis": {
            "backgroundcolor": "#E5ECF6",
            "gridcolor": "white",
            "gridwidth": 2,
            "linecolor": "white",
            "showbackground": true,
            "ticks": "",
            "zerolinecolor": "white"
           },
           "zaxis": {
            "backgroundcolor": "#E5ECF6",
            "gridcolor": "white",
            "gridwidth": 2,
            "linecolor": "white",
            "showbackground": true,
            "ticks": "",
            "zerolinecolor": "white"
           }
          },
          "shapedefaults": {
           "line": {
            "color": "#2a3f5f"
           }
          },
          "ternary": {
           "aaxis": {
            "gridcolor": "white",
            "linecolor": "white",
            "ticks": ""
           },
           "baxis": {
            "gridcolor": "white",
            "linecolor": "white",
            "ticks": ""
           },
           "bgcolor": "#E5ECF6",
           "caxis": {
            "gridcolor": "white",
            "linecolor": "white",
            "ticks": ""
           }
          },
          "title": {
           "x": 0.05
          },
          "xaxis": {
           "automargin": true,
           "gridcolor": "white",
           "linecolor": "white",
           "ticks": "",
           "zerolinecolor": "white",
           "zerolinewidth": 2
          },
          "yaxis": {
           "automargin": true,
           "gridcolor": "white",
           "linecolor": "white",
           "ticks": "",
           "zerolinecolor": "white",
           "zerolinewidth": 2
          }
         }
        },
        "title": {
         "text": "Environment vs. Social Score"
        },
        "xaxis": {
         "gridwidth": 2,
         "range": [
          0,
          100
         ],
         "ticklen": 5,
         "title": {
          "text": "Environment"
         },
         "zeroline": true
        },
        "yaxis": {
         "gridwidth": 2,
         "range": [
          0,
          100
         ],
         "ticklen": 5,
         "title": {
          "text": "Social"
         }
        }
       }
      },
      "text/html": [
       "<div>\n",
       "        \n",
       "        \n",
       "            <div id=\"802317d2-4189-415e-b7d3-ee183256516e\" class=\"plotly-graph-div\" style=\"height:525px; width:100%;\"></div>\n",
       "            <script type=\"text/javascript\">\n",
       "                require([\"plotly\"], function(Plotly) {\n",
       "                    window.PLOTLYENV=window.PLOTLYENV || {};\n",
       "                    \n",
       "                if (document.getElementById(\"802317d2-4189-415e-b7d3-ee183256516e\")) {\n",
       "                    Plotly.newPlot(\n",
       "                        '802317d2-4189-415e-b7d3-ee183256516e',\n",
       "                        [{\"marker\": {\"color\": [0, 0, 2, 0, 1, 1, 1, 0, 1, 0, 2, 1, 1, 2, 0, 1, 0, 2, 2, 2, 1, 0, 2, 2, 1, 1, 0, 0, 1, 0, 2, 2, 2, 0, 2, 0, 1, 1, 2, 1, 1, 0, 0, 1, 0, 0, 0, 0, 1, 0, 1, 2, 0, 1, 2, 1, 0, 0, 0, 0, 1, 0, 2, 2, 2, 2, 0, 0, 2, 1, 2, 1, 2, 1, 2, 2, 1, 1, 2, 1, 2, 2, 0, 1, 2, 1, 1, 1, 1, 0, 0, 2, 2, 2, 0, 1, 0, 0, 2, 2], \"colorscale\": [[0.0, \"rgb(12,51,131)\"], [0.25, \"rgb(10,136,186)\"], [0.5, \"rgb(242,211,56)\"], [0.75, \"rgb(242,143,56)\"], [1.0, \"rgb(217,30,30)\"]]}, \"mode\": \"markers\", \"name\": \"markers\", \"text\": [\"OENC\", \"SHBV\", \"CZUC\", \"DMOP\", \"YXQB\", \"TTCX\", \"VPHW\", \"KIQG\", \"VPWD\", \"CULI\", \"LXFS\", \"LUKG\", \"DRWB\", \"KMQH\", \"EVRJ\", \"FNVC\", \"WVQT\", \"UBVW\", \"MJIV\", \"FIUT\", \"WUOB\", \"LPUI\", \"LSDI\", \"NWKQ\", \"ZYIH\", \"NCWD\", \"TKZP\", \"UHIG\", \"NVKE\", \"RBSR\", \"XMQI\", \"LKOI\", \"MUMX\", \"JBBA\", \"PFEI\", \"ENAD\", \"VUWL\", \"SPPW\", \"BSXO\", \"OJZC\", \"QNAH\", \"SWQB\", \"AISW\", \"YFRO\", \"MCEA\", \"VKWS\", \"BRUX\", \"WSAG\", \"XHFJ\", \"OCMI\", \"ENGN\", \"QLDY\", \"JVOI\", \"LMTM\", \"RGGS\", \"KARA\", \"JMAN\", \"HUMO\", \"OJBG\", \"ISCM\", \"VIFT\", \"EMYN\", \"PNAX\", \"HYDT\", \"FBQS\", \"DYVU\", \"TDCB\", \"BOIN\", \"VFEP\", \"TMDG\", \"WAUJ\", \"KWUR\", \"MXKM\", \"CDKH\", \"XOON\", \"FGVN\", \"CBAK\", \"OZPU\", \"MZAZ\", \"JXLJ\", \"MHBN\", \"HYIB\", \"TMFL\", \"OEPA\", \"USBM\", \"YHUU\", \"AUYC\", \"YIPG\", \"LLIQ\", \"VTLK\", \"CRJY\", \"NLSC\", \"XLHT\", \"SIYX\", \"KRRS\", \"VGOF\", \"CEWZ\", \"FOAW\", \"MVXY\", \"LWCL\"], \"type\": \"scatter\", \"x\": [-6.682263553252593, 4.493726711496006, 45.91888246956397, 3.087073763817444, 88.20038678176284, 99.95883815927145, 92.67478982919788, 4.618131959448796, 97.64930833401213, 9.882595051681268, 53.47581292579052, 110.2092085936574, 78.84025709411081, 52.831253004562136, 0.34088451313755286, 91.61989899769812, 5.312927078150096, 73.01991017521257, 37.667357620250435, 57.276192862117576, 94.46161065788328, 2.885694529460813, 44.797572755175125, 61.11327138796837, 97.88707747917817, 99.02250740804243, 8.106565830466923, 20.13458840578759, 88.26918387830108, 14.559273828810962, 51.85592048300914, 46.12648030032554, 53.7728180616947, 6.265452244825574, 56.83802497004785, 13.468759601577284, 95.64406336050722, 99.03882877844438, 59.00945499189061, 88.90611047452536, 110.32602711860832, 23.013201427367612, 9.781642485994329, 103.24842452702762, 15.454159145819776, 2.8416179163509767, -5.319561472857126, 1.8525716874029925, 96.42629284384951, 8.923417952531441, 86.67584359924261, 37.571244560271964, 3.295615010618822, 87.7287758981266, 43.24508110070352, 71.28694252153076, -7.072534878877409, 2.643720257992383, 22.085290514086395, 12.925094792157992, 69.44650843477876, 19.2081730279596, 37.59266019818846, 45.2201738749921, 47.48526567342296, 44.43636049580146, 24.289336368521013, 10.017197098145807, 48.65540763293299, 80.76795964512353, 48.49418799601931, 88.92915555370543, 53.92594220356617, 92.25868725378508, 51.74359769122983, 51.973022157730604, 104.22246633669187, 91.75293022884246, 54.93293978208242, 92.69008508264068, 40.26346022471407, 55.00885620014331, 3.465964648158602, 101.37841863770531, 51.12904027987673, 76.6134617879798, 83.94854758338316, 73.8042542568829, 83.60636803149549, 1.165261798592427, 0.34637267672748884, 39.81460269107515, 37.585312018108766, 60.315856546112094, 7.732773173999497, 78.6246365427608, 17.607042117187305, 10.48226179246327, 38.487915888115324, 64.85687933848432], \"y\": [2.8238271144226577, 3.525366162586155, 68.2002883346066, 22.14058536890127, 81.47553557526797, 94.06830325824158, 77.45899973259984, 17.73840580894757, 79.13229307492679, 29.158345559039685, 35.50012011964243, 100.79954507769222, 83.1258350533757, 52.09571129359182, 4.356525660388227, 108.09909333317384, 11.431102835992679, 54.218275683687885, 71.5547348977934, 60.35752773372831, 107.02374227755479, 4.220432915490982, 55.369165140816335, 58.74054360668719, 105.33585176872988, 79.39285245963849, 14.78437518432402, -5.908759920715658, 73.47599822680888, 12.116032985630344, 59.9832747465134, 47.09432178374082, 24.78268866667832, -5.0475012291309085, 58.25713954826636, 12.540964992694647, 106.63177637526007, 91.39768181073136, 45.60158817284647, 85.00864142441922, 79.54405608679453, 11.50982063960828, 26.071705379879184, 81.22256122756139, 15.890893701633324, 4.660560109240171, -0.042382679745891494, 16.122545176675075, 107.80502100014104, 29.28419006026408, 98.83143627795769, 53.24021071655853, -11.376778778972753, 93.53122023329118, 55.96752862789539, 103.31563324813504, 7.081270683784365, 26.42658382311725, -3.774509980203103, 1.149248951920363, 111.11059715172809, 17.443732849235033, 48.22153441797913, 48.92272554090465, 51.38852779488221, 52.6031677930668, 22.73876025657594, 11.465223214245023, 43.553743032488796, 93.6176245330755, 48.580714906770936, 90.40729168751527, 55.185468985962515, 113.00048465209416, 46.56570094656178, 53.97806759587428, 85.13210709081999, 87.40721752726402, 62.31210044509052, 95.92853653545691, 66.58962604771175, 42.46995261318621, 8.961597649973411, 103.47490881588708, 36.8976804382692, 94.49171154763415, 98.37045555529437, 106.73196147870374, 87.61113249072119, 3.1601474152587965, 13.719064631925868, 33.39155194403222, 35.1370063023024, 63.64864461872101, 16.363420319094555, 81.6025773324572, 8.76122425334745, 7.577362494553255, 33.10922909405944, 54.67607407355578]}],\n",
       "                        {\"hovermode\": \"closest\", \"template\": {\"data\": {\"bar\": [{\"error_x\": {\"color\": \"#2a3f5f\"}, \"error_y\": {\"color\": \"#2a3f5f\"}, \"marker\": {\"line\": {\"color\": \"#E5ECF6\", \"width\": 0.5}}, \"type\": \"bar\"}], \"barpolar\": [{\"marker\": {\"line\": {\"color\": \"#E5ECF6\", \"width\": 0.5}}, \"type\": \"barpolar\"}], \"carpet\": [{\"aaxis\": {\"endlinecolor\": \"#2a3f5f\", \"gridcolor\": \"white\", \"linecolor\": \"white\", \"minorgridcolor\": \"white\", \"startlinecolor\": \"#2a3f5f\"}, \"baxis\": {\"endlinecolor\": \"#2a3f5f\", \"gridcolor\": \"white\", \"linecolor\": \"white\", \"minorgridcolor\": \"white\", \"startlinecolor\": \"#2a3f5f\"}, \"type\": \"carpet\"}], \"choropleth\": [{\"colorbar\": {\"outlinewidth\": 0, \"ticks\": \"\"}, \"type\": \"choropleth\"}], \"contour\": [{\"colorbar\": {\"outlinewidth\": 0, \"ticks\": \"\"}, \"colorscale\": [[0.0, \"#0d0887\"], [0.1111111111111111, \"#46039f\"], [0.2222222222222222, \"#7201a8\"], [0.3333333333333333, \"#9c179e\"], [0.4444444444444444, \"#bd3786\"], [0.5555555555555556, \"#d8576b\"], [0.6666666666666666, \"#ed7953\"], [0.7777777777777778, \"#fb9f3a\"], [0.8888888888888888, \"#fdca26\"], [1.0, \"#f0f921\"]], \"type\": \"contour\"}], \"contourcarpet\": [{\"colorbar\": {\"outlinewidth\": 0, \"ticks\": \"\"}, \"type\": \"contourcarpet\"}], \"heatmap\": [{\"colorbar\": {\"outlinewidth\": 0, \"ticks\": \"\"}, \"colorscale\": [[0.0, \"#0d0887\"], [0.1111111111111111, \"#46039f\"], [0.2222222222222222, \"#7201a8\"], [0.3333333333333333, \"#9c179e\"], [0.4444444444444444, \"#bd3786\"], [0.5555555555555556, \"#d8576b\"], [0.6666666666666666, \"#ed7953\"], [0.7777777777777778, \"#fb9f3a\"], [0.8888888888888888, \"#fdca26\"], [1.0, \"#f0f921\"]], \"type\": \"heatmap\"}], \"heatmapgl\": [{\"colorbar\": {\"outlinewidth\": 0, \"ticks\": \"\"}, \"colorscale\": [[0.0, \"#0d0887\"], [0.1111111111111111, \"#46039f\"], [0.2222222222222222, \"#7201a8\"], [0.3333333333333333, \"#9c179e\"], [0.4444444444444444, \"#bd3786\"], [0.5555555555555556, \"#d8576b\"], [0.6666666666666666, \"#ed7953\"], [0.7777777777777778, \"#fb9f3a\"], [0.8888888888888888, \"#fdca26\"], [1.0, \"#f0f921\"]], \"type\": \"heatmapgl\"}], \"histogram\": [{\"marker\": {\"colorbar\": {\"outlinewidth\": 0, \"ticks\": \"\"}}, \"type\": \"histogram\"}], \"histogram2d\": [{\"colorbar\": {\"outlinewidth\": 0, \"ticks\": \"\"}, \"colorscale\": [[0.0, \"#0d0887\"], [0.1111111111111111, \"#46039f\"], [0.2222222222222222, \"#7201a8\"], [0.3333333333333333, \"#9c179e\"], [0.4444444444444444, \"#bd3786\"], [0.5555555555555556, \"#d8576b\"], [0.6666666666666666, \"#ed7953\"], [0.7777777777777778, \"#fb9f3a\"], [0.8888888888888888, \"#fdca26\"], [1.0, \"#f0f921\"]], \"type\": \"histogram2d\"}], \"histogram2dcontour\": [{\"colorbar\": {\"outlinewidth\": 0, \"ticks\": \"\"}, \"colorscale\": [[0.0, \"#0d0887\"], [0.1111111111111111, \"#46039f\"], [0.2222222222222222, \"#7201a8\"], [0.3333333333333333, \"#9c179e\"], [0.4444444444444444, \"#bd3786\"], [0.5555555555555556, \"#d8576b\"], [0.6666666666666666, \"#ed7953\"], [0.7777777777777778, \"#fb9f3a\"], [0.8888888888888888, \"#fdca26\"], [1.0, \"#f0f921\"]], \"type\": \"histogram2dcontour\"}], \"mesh3d\": [{\"colorbar\": {\"outlinewidth\": 0, \"ticks\": \"\"}, \"type\": \"mesh3d\"}], \"parcoords\": [{\"line\": {\"colorbar\": {\"outlinewidth\": 0, \"ticks\": \"\"}}, \"type\": \"parcoords\"}], \"scatter\": [{\"marker\": {\"colorbar\": {\"outlinewidth\": 0, \"ticks\": \"\"}}, \"type\": \"scatter\"}], \"scatter3d\": [{\"line\": {\"colorbar\": {\"outlinewidth\": 0, \"ticks\": \"\"}}, \"marker\": {\"colorbar\": {\"outlinewidth\": 0, \"ticks\": \"\"}}, \"type\": \"scatter3d\"}], \"scattercarpet\": [{\"marker\": {\"colorbar\": {\"outlinewidth\": 0, \"ticks\": \"\"}}, \"type\": \"scattercarpet\"}], \"scattergeo\": [{\"marker\": {\"colorbar\": {\"outlinewidth\": 0, \"ticks\": \"\"}}, \"type\": \"scattergeo\"}], \"scattergl\": [{\"marker\": {\"colorbar\": {\"outlinewidth\": 0, \"ticks\": \"\"}}, \"type\": \"scattergl\"}], \"scattermapbox\": [{\"marker\": {\"colorbar\": {\"outlinewidth\": 0, \"ticks\": \"\"}}, \"type\": \"scattermapbox\"}], \"scatterpolar\": [{\"marker\": {\"colorbar\": {\"outlinewidth\": 0, \"ticks\": \"\"}}, \"type\": \"scatterpolar\"}], \"scatterpolargl\": [{\"marker\": {\"colorbar\": {\"outlinewidth\": 0, \"ticks\": \"\"}}, \"type\": \"scatterpolargl\"}], \"scatterternary\": [{\"marker\": {\"colorbar\": {\"outlinewidth\": 0, \"ticks\": \"\"}}, \"type\": \"scatterternary\"}], \"surface\": [{\"colorbar\": {\"outlinewidth\": 0, \"ticks\": \"\"}, \"colorscale\": [[0.0, \"#0d0887\"], [0.1111111111111111, \"#46039f\"], [0.2222222222222222, \"#7201a8\"], [0.3333333333333333, \"#9c179e\"], [0.4444444444444444, \"#bd3786\"], [0.5555555555555556, \"#d8576b\"], [0.6666666666666666, \"#ed7953\"], [0.7777777777777778, \"#fb9f3a\"], [0.8888888888888888, \"#fdca26\"], [1.0, \"#f0f921\"]], \"type\": \"surface\"}], \"table\": [{\"cells\": {\"fill\": {\"color\": \"#EBF0F8\"}, \"line\": {\"color\": \"white\"}}, \"header\": {\"fill\": {\"color\": \"#C8D4E3\"}, \"line\": {\"color\": \"white\"}}, \"type\": \"table\"}]}, \"layout\": {\"annotationdefaults\": {\"arrowcolor\": \"#2a3f5f\", \"arrowhead\": 0, \"arrowwidth\": 1}, \"colorscale\": {\"diverging\": [[0, \"#8e0152\"], [0.1, \"#c51b7d\"], [0.2, \"#de77ae\"], [0.3, \"#f1b6da\"], [0.4, \"#fde0ef\"], [0.5, \"#f7f7f7\"], [0.6, \"#e6f5d0\"], [0.7, \"#b8e186\"], [0.8, \"#7fbc41\"], [0.9, \"#4d9221\"], [1, \"#276419\"]], \"sequential\": [[0.0, \"#0d0887\"], [0.1111111111111111, \"#46039f\"], [0.2222222222222222, \"#7201a8\"], [0.3333333333333333, \"#9c179e\"], [0.4444444444444444, \"#bd3786\"], [0.5555555555555556, \"#d8576b\"], [0.6666666666666666, \"#ed7953\"], [0.7777777777777778, \"#fb9f3a\"], [0.8888888888888888, \"#fdca26\"], [1.0, \"#f0f921\"]], \"sequentialminus\": [[0.0, \"#0d0887\"], [0.1111111111111111, \"#46039f\"], [0.2222222222222222, \"#7201a8\"], [0.3333333333333333, \"#9c179e\"], [0.4444444444444444, \"#bd3786\"], [0.5555555555555556, \"#d8576b\"], [0.6666666666666666, \"#ed7953\"], [0.7777777777777778, \"#fb9f3a\"], [0.8888888888888888, \"#fdca26\"], [1.0, \"#f0f921\"]]}, \"colorway\": [\"#636efa\", \"#EF553B\", \"#00cc96\", \"#ab63fa\", \"#FFA15A\", \"#19d3f3\", \"#FF6692\", \"#B6E880\", \"#FF97FF\", \"#FECB52\"], \"font\": {\"color\": \"#2a3f5f\"}, \"geo\": {\"bgcolor\": \"white\", \"lakecolor\": \"white\", \"landcolor\": \"#E5ECF6\", \"showlakes\": true, \"showland\": true, \"subunitcolor\": \"white\"}, \"hoverlabel\": {\"align\": \"left\"}, \"hovermode\": \"closest\", \"mapbox\": {\"style\": \"light\"}, \"paper_bgcolor\": \"white\", \"plot_bgcolor\": \"#E5ECF6\", \"polar\": {\"angularaxis\": {\"gridcolor\": \"white\", \"linecolor\": \"white\", \"ticks\": \"\"}, \"bgcolor\": \"#E5ECF6\", \"radialaxis\": {\"gridcolor\": \"white\", \"linecolor\": \"white\", \"ticks\": \"\"}}, \"scene\": {\"xaxis\": {\"backgroundcolor\": \"#E5ECF6\", \"gridcolor\": \"white\", \"gridwidth\": 2, \"linecolor\": \"white\", \"showbackground\": true, \"ticks\": \"\", \"zerolinecolor\": \"white\"}, \"yaxis\": {\"backgroundcolor\": \"#E5ECF6\", \"gridcolor\": \"white\", \"gridwidth\": 2, \"linecolor\": \"white\", \"showbackground\": true, \"ticks\": \"\", \"zerolinecolor\": \"white\"}, \"zaxis\": {\"backgroundcolor\": \"#E5ECF6\", \"gridcolor\": \"white\", \"gridwidth\": 2, \"linecolor\": \"white\", \"showbackground\": true, \"ticks\": \"\", \"zerolinecolor\": \"white\"}}, \"shapedefaults\": {\"line\": {\"color\": \"#2a3f5f\"}}, \"ternary\": {\"aaxis\": {\"gridcolor\": \"white\", \"linecolor\": \"white\", \"ticks\": \"\"}, \"baxis\": {\"gridcolor\": \"white\", \"linecolor\": \"white\", \"ticks\": \"\"}, \"bgcolor\": \"#E5ECF6\", \"caxis\": {\"gridcolor\": \"white\", \"linecolor\": \"white\", \"ticks\": \"\"}}, \"title\": {\"x\": 0.05}, \"xaxis\": {\"automargin\": true, \"gridcolor\": \"white\", \"linecolor\": \"white\", \"ticks\": \"\", \"zerolinecolor\": \"white\", \"zerolinewidth\": 2}, \"yaxis\": {\"automargin\": true, \"gridcolor\": \"white\", \"linecolor\": \"white\", \"ticks\": \"\", \"zerolinecolor\": \"white\", \"zerolinewidth\": 2}}}, \"title\": {\"text\": \"Environment vs. Social Score\"}, \"xaxis\": {\"gridwidth\": 2, \"range\": [0, 100], \"ticklen\": 5, \"title\": {\"text\": \"Environment\"}, \"zeroline\": true}, \"yaxis\": {\"gridwidth\": 2, \"range\": [0, 100], \"ticklen\": 5, \"title\": {\"text\": \"Social\"}}},\n",
       "                        {\"responsive\": true}\n",
       "                    ).then(function(){\n",
       "                            \n",
       "var gd = document.getElementById('802317d2-4189-415e-b7d3-ee183256516e');\n",
       "var x = new MutationObserver(function (mutations, observer) {{\n",
       "        var display = window.getComputedStyle(gd).display;\n",
       "        if (!display || display === 'none') {{\n",
       "            console.log([gd, 'removed!']);\n",
       "            Plotly.purge(gd);\n",
       "            observer.disconnect();\n",
       "        }}\n",
       "}});\n",
       "\n",
       "// Listen for the removal of the full notebook cells\n",
       "var notebookContainer = gd.closest('#notebook-container');\n",
       "if (notebookContainer) {{\n",
       "    x.observe(notebookContainer, {childList: true});\n",
       "}}\n",
       "\n",
       "// Listen for the clearing of the current output cell\n",
       "var outputEl = gd.closest('.output');\n",
       "if (outputEl) {{\n",
       "    x.observe(outputEl, {childList: true});\n",
       "}}\n",
       "\n",
       "                        })\n",
       "                };\n",
       "                });\n",
       "            </script>\n",
       "        </div>"
      ]
     },
     "metadata": {},
     "output_type": "display_data"
    }
   ],
   "source": [
    "features = ['Environment', 'Social', 'Governance']\n",
    "\n",
    "k_means_model = skc.KMeans(n_clusters=3)\n",
    "k_means_model.fit(df[features])\n",
    "centroids = k_means_model.cluster_centers_\n",
    "\n",
    "# Create traces\n",
    "\n",
    "trace0 = go.Scatter(\n",
    "    x = df['Environment'],\n",
    "    y = df['Social'],\n",
    "    text = df['Ticker'],\n",
    "    mode = 'markers',\n",
    "    name = 'markers', \n",
    "    marker = dict(\n",
    "        color = k_means_model.labels_,\n",
    "        colorscale='Portland',\n",
    "    )\n",
    ")\n",
    "\n",
    "layout = go.Layout( \n",
    "    title = 'Environment vs. Social Score',\n",
    "    hovermode = 'closest',\n",
    "    xaxis= dict(\n",
    "        title= 'Environment',\n",
    "        ticklen= 5,\n",
    "        zeroline=True,\n",
    "        gridwidth= 2,\n",
    "    ),\n",
    "    yaxis=dict(\n",
    "        title= 'Social',\n",
    "        ticklen= 5,\n",
    "        gridwidth= 2,\n",
    "    ),\n",
    "\n",
    "    \n",
    ")\n",
    "\n",
    "data = [trace0]\n",
    "\n",
    "fig= go.Figure(data=data, layout=layout)\n",
    "fig.update_xaxes(range=[0, 100])\n",
    "fig.update_yaxes(range=[0, 100])\n",
    "\n",
    "fig.show()"
   ]
  }
 ],
 "metadata": {
  "celltoolbar": "Slideshow",
  "kernelspec": {
   "display_name": "Python 3",
   "language": "python",
   "name": "python3"
  },
  "language_info": {
   "codemirror_mode": {
    "name": "ipython",
    "version": 3
   },
   "file_extension": ".py",
   "mimetype": "text/x-python",
   "name": "python",
   "nbconvert_exporter": "python",
   "pygments_lexer": "ipython3",
   "version": "3.7.3"
  }
 },
 "nbformat": 4,
 "nbformat_minor": 2
}
