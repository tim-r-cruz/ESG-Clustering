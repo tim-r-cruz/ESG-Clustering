{
 "cells": [
  {
   "cell_type": "code",
   "execution_count": 24,
   "metadata": {},
   "outputs": [
    {
     "data": {
      "text/html": [
       "<script>\n",
       "code_show=true; \n",
       "function code_toggle() {\n",
       " if (code_show){\n",
       " $('div.input').hide();\n",
       " } else {\n",
       " $('div.input').show();\n",
       " }\n",
       " code_show = !code_show\n",
       "} \n",
       "$( document ).ready(code_toggle);\n",
       "</script>\n",
       "The raw code for this IPython notebook is by default hidden for easier reading.\n",
       "To toggle on/off the raw code, click <a href=\"javascript:code_toggle()\">here</a>."
      ],
      "text/plain": [
       "<IPython.core.display.HTML object>"
      ]
     },
     "execution_count": 24,
     "metadata": {},
     "output_type": "execute_result"
    }
   ],
   "source": [
    "from IPython.display import HTML\n",
    "\n",
    "HTML('''<script>\n",
    "code_show=true; \n",
    "function code_toggle() {\n",
    " if (code_show){\n",
    " $('div.input').hide();\n",
    " } else {\n",
    " $('div.input').show();\n",
    " }\n",
    " code_show = !code_show\n",
    "} \n",
    "$( document ).ready(code_toggle);\n",
    "</script>\n",
    "The raw code for this IPython notebook is by default hidden for easier reading.\n",
    "To toggle on/off the raw code, click <a href=\"javascript:code_toggle()\">here</a>.''')"
   ]
  },
  {
   "cell_type": "code",
   "execution_count": 26,
   "metadata": {},
   "outputs": [],
   "source": [
    "import numpy as np\n",
    "import scipy as sp\n",
    "import random\n",
    "import string\n",
    "import scipy.spatial.distance as spd\n",
    "import scipy.cluster.hierarchy as sph\n",
    "import sklearn as sk\n",
    "import sklearn.metrics as skm\n",
    "import sklearn.cluster as skc\n",
    "from sklearn.cluster import KMeans\n",
    "import sklearn.decomposition as skd\n",
    "import sklearn.mixture as skmix\n",
    "import pandas as pd\n",
    "import matplotlib.pyplot as plt\n",
    "%matplotlib inline\n",
    "import seaborn as sns\n",
    "import plotly.graph_objects as go\n",
    "sns.set(style='white', color_codes=True, font_scale=1.3)"
   ]
  },
  {
   "cell_type": "markdown",
   "metadata": {
    "slideshow": {
     "slide_type": "slide"
    }
   },
   "source": [
    "### Dataset Generation: \n",
    "\n",
    "To ensure that unsupervised learning methods can work on data of this shape, a syntethic dataset was created which follows the form of available ESG data on Yahoo Finance. A score for Environment, Social and Governance factors are provided, along with a randomly generated 4-character ticker. \n",
    "\n",
    "By generating the data in this format, the same code can be used and run once the real data is pulled from Yahoo finance. "
   ]
  },
  {
   "cell_type": "code",
   "execution_count": 27,
   "metadata": {},
   "outputs": [
    {
     "data": {
      "text/html": [
       "<div>\n",
       "<style scoped>\n",
       "    .dataframe tbody tr th:only-of-type {\n",
       "        vertical-align: middle;\n",
       "    }\n",
       "\n",
       "    .dataframe tbody tr th {\n",
       "        vertical-align: top;\n",
       "    }\n",
       "\n",
       "    .dataframe thead th {\n",
       "        text-align: right;\n",
       "    }\n",
       "</style>\n",
       "<table border=\"1\" class=\"dataframe\">\n",
       "  <thead>\n",
       "    <tr style=\"text-align: right;\">\n",
       "      <th></th>\n",
       "      <th>Environment</th>\n",
       "      <th>Social</th>\n",
       "      <th>Governance</th>\n",
       "      <th>Ticker</th>\n",
       "    </tr>\n",
       "  </thead>\n",
       "  <tbody>\n",
       "    <tr>\n",
       "      <th>0</th>\n",
       "      <td>7.228978</td>\n",
       "      <td>29.688266</td>\n",
       "      <td>3.176949</td>\n",
       "      <td>VYMW</td>\n",
       "    </tr>\n",
       "    <tr>\n",
       "      <th>1</th>\n",
       "      <td>93.789676</td>\n",
       "      <td>104.533665</td>\n",
       "      <td>97.881878</td>\n",
       "      <td>CUMT</td>\n",
       "    </tr>\n",
       "    <tr>\n",
       "      <th>2</th>\n",
       "      <td>89.953251</td>\n",
       "      <td>82.885263</td>\n",
       "      <td>92.800362</td>\n",
       "      <td>LITS</td>\n",
       "    </tr>\n",
       "    <tr>\n",
       "      <th>3</th>\n",
       "      <td>18.346130</td>\n",
       "      <td>21.677894</td>\n",
       "      <td>0.230856</td>\n",
       "      <td>TGOY</td>\n",
       "    </tr>\n",
       "    <tr>\n",
       "      <th>4</th>\n",
       "      <td>54.017185</td>\n",
       "      <td>69.291043</td>\n",
       "      <td>63.070163</td>\n",
       "      <td>BQVJ</td>\n",
       "    </tr>\n",
       "  </tbody>\n",
       "</table>\n",
       "</div>"
      ],
      "text/plain": [
       "   Environment      Social  Governance Ticker\n",
       "0     7.228978   29.688266    3.176949   VYMW\n",
       "1    93.789676  104.533665   97.881878   CUMT\n",
       "2    89.953251   82.885263   92.800362   LITS\n",
       "3    18.346130   21.677894    0.230856   TGOY\n",
       "4    54.017185   69.291043   63.070163   BQVJ"
      ]
     },
     "execution_count": 27,
     "metadata": {},
     "output_type": "execute_result"
    }
   ],
   "source": [
    "# Generate Random Data: \n",
    "from sklearn.datasets.samples_generator import make_blobs\n",
    "X, y = make_blobs(n_samples=100, \n",
    "                  centers=[(10, 10, 10), (50, 50, 50), (90, 90, 90)], \n",
    "                  cluster_std=10, \n",
    "                  n_features=3)\n",
    "\n",
    "df = pd.DataFrame(X, columns=['Environment', 'Social', 'Governance'])\n",
    "df['Ticker'] = [''.join(random.choices(string.ascii_uppercase, k=4)) for i in range(len(df))]\n",
    "df.head()"
   ]
  },
  {
   "cell_type": "code",
   "execution_count": 28,
   "metadata": {},
   "outputs": [],
   "source": [
    "def elbow(df, pair): \n",
    "    # Elbow method to Determine K \n",
    "    X = df \n",
    "    K = range(1,11)  # Apply kmeans 1 to 10\n",
    "    kmeans_models = [KMeans(k).fit(X) for k in K]\n",
    "    centroids = [m.cluster_centers_ for m in kmeans_models]\n",
    "    D_k = [spd.cdist(X, cent, 'euclidean') for cent in centroids]\n",
    "    cIdx = [np.argmin(D,axis=1) for D in D_k]\n",
    "    dist = [np.min(D,axis=1) for D in D_k]\n",
    "    avgWithinSS = [sum(d)/X.shape[0] for d in dist]\n",
    "\n",
    "    # plot elbow curve\n",
    "    plt.figure(figsize = (7,7))\n",
    "    plt.plot(K, avgWithinSS, 'b*-')\n",
    "    plt.xlabel('Number of clusters');\n",
    "    plt.ylabel('Average within-cluster sum of squares');\n",
    "    plt.title('Elbow for K-Means clustering');\n",
    "    plt.suptitle('{}'.format(pair))\n",
    "    plt.show()\n",
    "\n",
    "# A helper function to run and plot K-means:     \n",
    "def kmeans(df, pair, k):\n",
    "    # Fitting the K-Means model: \n",
    "    k_means_model = KMeans(n_clusters=k)\n",
    "    k_means_model.fit(df)\n",
    "    centroids = k_means_model.cluster_centers_\n",
    "    centroids\n",
    "\n",
    "    # Plot the clusters with their centroids.\n",
    "    df['cluster_labels_kmeans'] = k_means_model.labels_\n",
    "    f = sns.lmplot(x=pair[0], y=pair[1], data=df, hue = 'cluster_labels_kmeans', \n",
    "                   fit_reg=False, size=5, aspect=1.3)\n",
    "    f.ax.scatter(centroids[:,0], centroids[:,1], marker='+', s=100,\n",
    "                 linewidths=2, color='k');\n",
    "    plt.title('{}'.format(pair), fontsize=15)"
   ]
  },
  {
   "cell_type": "markdown",
   "metadata": {
    "slideshow": {
     "slide_type": "slide"
    }
   },
   "source": [
    "### Cluster Identification: \n",
    "\n",
    "The following plot identifies the optimal number of groups to detect in the dataset. Typically, the optimal number of groups is shown by the \"elbow\" in the plot. At this point, finding additional groups beyond the elbow yield no more information. These groups would associate to ESG rankings - \"Underperformers\", \"Average Performers\" and \"Overperformers\". "
   ]
  },
  {
   "cell_type": "code",
   "execution_count": 29,
   "metadata": {},
   "outputs": [
    {
     "data": {
      "image/png": "[encoded data removed]",
      "text/plain": [
       "<Figure size 504x504 with 1 Axes>"
      ]
     },
     "metadata": {},
     "output_type": "display_data"
    }
   ],
   "source": [
    "elbow(df[['Environment', 'Social', 'Governance']], ['Environment', 'Social', 'Governance'])"
   ]
  },
  {
   "cell_type": "markdown",
   "metadata": {
    "slideshow": {
     "slide_type": "slide"
    }
   },
   "source": [
    "### K-Means Clustering with Interactive Visualization: \n",
    "\n",
    "Here - we demonstrate the findings of the K-means unsupervised learning method. The algorithm successfully identified 3 groups, which represent the ESG \"Underperformers\", \"Average Performars\" and \"Over Performers\". The findings of this algorithm are data dependent, so it has yet to be determined if the same results will arise on the real data set. \n",
    "\n",
    "The insights of unsupervised learning allow users to find mathematical structure in the data. By looking at this, a company would be able to see a more robust representation of their ESG performance against their peers. While the visualization is simple, it demonstrates that there is a _material_ effect on sustainalytics rankings on a given company's perception in the public. "
   ]
  },
  {
   "cell_type": "code",
   "execution_count": 33,
   "metadata": {},
   "outputs": [
    {
     "data": {
      "application/vnd.plotly.v1+json": {
       "config": {
        "plotlyServerURL": "https://plot.ly"
       },
       "data": [
        {
         "marker": {
          "color": [
           0,
           1,
           1,
           0,
           2,
           1,
           0,
           0,
           2,
           0,
           1,
           2,
           2,
           0,
           1,
           0,
           0,
           1,
           0,
           0,
           1,
           1,
           1,
           1,
           2,
           2,
           1,
           2,
           1,
           0,
           0,
           0,
           2,
           0,
           1,
           1,
           2,
           2,
           2,
           2,
           1,
           0,
           2,
           2,
           2,
           0,
           0,
           0,
           1,
           1,
           0,
           0,
           1,
           1,
           1,
           2,
           2,
           1,
           0,
           0,
           2,
           2,
           2,
           2,
           1,
           1,
           0,
           1,
           1,
           2,
           2,
           2,
           0,
           1,
           2,
           2,
           1,
           2,
           1,
           1,
           2,
           1,
           0,
           0,
           0,
           1,
           0,
           0,
           0,
           1,
           2,
           0,
           0,
           2,
           0,
           2,
           1,
           0,
           2,
           2
          ],
          "colorscale": [
           [
            0,
            "rgb(12,51,131)"
           ],
           [
            0.25,
            "rgb(10,136,186)"
           ],
           [
            0.5,
            "rgb(242,211,56)"
           ],
           [
            0.75,
            "rgb(242,143,56)"
           ],
           [
            1,
            "rgb(217,30,30)"
           ]
          ]
         },
         "mode": "markers",
         "name": "markers",
         "text": [
          "VYMW",
          "CUMT",
          "LITS",
          "TGOY",
          "BQVJ",
          "IENH",
          "HGTH",
          "IPAZ",
          "TVYW",
          "NEPH",
          "IJQK",
          "CFYG",
          "EJRV",
          "CIJH",
          "XDEK",
          "ZLNV",
          "LHLA",
          "QZAW",
          "EINR",
          "SLQG",
          "ZDJX",
          "XMPS",
          "JEBB",
          "KCFU",
          "ZRWK",
          "QAGZ",
          "KGQD",
          "MWAE",
          "HOYO",
          "CCTJ",
          "DFFE",
          "XIMS",
          "QNTS",
          "WXGM",
          "RWQA",
          "ESQD",
          "RKLT",
          "YLMN",
          "TXZN",
          "BYFQ",
          "ABZO",
          "VSTA",
          "NBWX",
          "IDFW",
          "GPDA",
          "QHIV",
          "TVLF",
          "HUCN",
          "SJXV",
          "MMEF",
          "ZOPH",
          "HEBA",
          "MHRR",
          "BFDM",
          "XPQS",
          "HGAZ",
          "PQNM",
          "KPXE",
          "QKAS",
          "GUMF",
          "XASK",
          "AVBP",
          "MAFY",
          "EEAO",
          "YOYU",
          "KYVW",
          "BYDA",
          "TREH",
          "EIFS",
          "EYGF",
          "PQDW",
          "YIOB",
          "AEBJ",
          "PXUX",
          "NSTQ",
          "PHSR",
          "TZHB",
          "MTYK",
          "FYIO",
          "QCLW",
          "XSLL",
          "EGAD",
          "BHJG",
          "EXCL",
          "WVSV",
          "OVQR",
          "WOLE",
          "WBOS",
          "CNRM",
          "PXYX",
          "EKNE",
          "CVGW",
          "GZMU",
          "AVVS",
          "RSBE",
          "NWBM",
          "WFGX",
          "BJOP",
          "KVOA",
          "GNZS"
         ],
         "type": "scatter",
         "x": [
          7.22897757696946,
          93.78967620499026,
          89.95325071703262,
          18.346130402985317,
          54.01718517379213,
          86.09457222606645,
          1.1867463045234992,
          16.024924980838463,
          47.718001043772354,
          3.616502829361864,
          65.07602730716147,
          28.45246704581345,
          62.72454680574387,
          24.437990750928698,
          79.96588743985103,
          -4.204997165863297,
          6.622747537739003,
          91.75162072693225,
          21.20646218896342,
          17.104011709258028,
          83.70018644634408,
          102.55854068493262,
          82.25171239863273,
          93.54544764690303,
          53.37691895910333,
          46.14197248031894,
          82.00009242676191,
          32.17253117612091,
          84.11272165850485,
          5.8439464581189835,
          7.384620848206818,
          -11.612361381841808,
          53.75103862626557,
          5.218754765636214,
          86.00516373930898,
          76.93746053801634,
          65.43689971225064,
          56.283909181893165,
          57.35102402258821,
          66.67497897110161,
          79.74379680570907,
          9.442558478629671,
          24.682293345720417,
          33.4007168580393,
          47.409520272708434,
          2.8293495720486037,
          14.015292350020195,
          -1.4768433969308958,
          91.73932522470528,
          97.41457074873531,
          10.654944995033844,
          -0.5409784019523993,
          93.00303413125214,
          98.22984607060714,
          82.07168621817723,
          47.991960062722605,
          65.06355272807896,
          116.27156116209076,
          3.6064158688410206,
          7.051056615115075,
          55.22621369497116,
          61.31471778839962,
          39.628968896283574,
          38.58320523552335,
          75.55331503628014,
          85.35741294980194,
          8.00742681040002,
          92.47093457314361,
          78.46317510887594,
          47.26042200058481,
          50.95589495347416,
          36.6839749795526,
          19.508708648702495,
          95.03804162739348,
          47.64435230956756,
          45.395247641742735,
          93.95302288431859,
          55.05302587804549,
          87.14207199350578,
          79.03041523656879,
          61.362728005153386,
          92.53275333043692,
          2.4797605179777262,
          21.564469830111985,
          4.214540641833391,
          95.75917940730001,
          23.854407474129612,
          5.30002299194044,
          9.849016122554826,
          80.65877411686597,
          50.35661492979028,
          19.895039105987465,
          12.626595463463019,
          34.739641413739406,
          12.072653518308499,
          55.587143675415945,
          95.35995083704789,
          17.602662290506675,
          62.55060355353774,
          48.30535753889664
         ],
         "y": [
          29.688266428054185,
          104.53366483724673,
          82.88526335713411,
          21.677893504329155,
          69.29104282569081,
          85.92646121003476,
          3.699763892838339,
          17.447557370042286,
          58.20961435613249,
          -2.348468196590993,
          99.14531802200574,
          42.788083881859016,
          38.182560379264615,
          11.381040855547054,
          105.55195286295972,
          9.466207730876404,
          21.683920212458546,
          83.90435650678818,
          25.00116639996456,
          11.233925827814629,
          101.2984325215474,
          82.0677649146767,
          81.52754725930426,
          82.73388287158389,
          47.13957049871365,
          48.919360299473894,
          102.20137818024942,
          53.5496457334137,
          96.04469954782529,
          28.029889610082304,
          -0.2501513726021649,
          6.234836646790442,
          56.641917593640144,
          11.058761084388912,
          89.30122595828634,
          76.96457448919934,
          63.107353310648975,
          42.13324338442462,
          55.6804928414883,
          61.22323607086491,
          92.16380552720187,
          6.213339437231256,
          35.98961188765741,
          34.72101682873407,
          45.286416729838066,
          -0.20652670503595694,
          -6.899602597914885,
          16.0628946680258,
          93.97797727990955,
          103.68625709334316,
          -11.990165692021655,
          3.8668756552716896,
          110.72166811857687,
          99.84632366587539,
          97.79922866818298,
          49.18080856454414,
          65.68500194544497,
          91.92244336693783,
          -6.965412819188462,
          0.7248059568622711,
          68.26056220547775,
          34.170862090932516,
          48.52305176565531,
          46.31775037172166,
          90.61604130698075,
          66.6512009156631,
          13.519042459060152,
          63.544863177438984,
          96.9490715951539,
          43.3397803944048,
          43.940817112241454,
          41.69915024493974,
          17.787020856210265,
          96.84661114537245,
          44.737857830576,
          42.86893490548943,
          90.98200378105696,
          53.202414919999875,
          94.62228160664799,
          93.59738580861784,
          41.105484655892276,
          80.585028383893,
          27.405530662881784,
          6.183926923498646,
          20.86503698526551,
          101.00237348922087,
          7.298184992084369,
          13.982712432050718,
          14.813603553195232,
          101.6673855564492,
          60.98120214279017,
          -3.0635664797576307,
          3.6736959510767084,
          41.140257591836544,
          5.803961212914253,
          46.18949100328689,
          87.97416815263922,
          -1.5533158710796364,
          57.20486238945819,
          71.5459492482261
         ]
        }
       ],
       "layout": {
        "hovermode": "closest",
        "template": {
         "data": {
          "bar": [
           {
            "error_x": {
             "color": "#2a3f5f"
            },
            "error_y": {
             "color": "#2a3f5f"
            },
            "marker": {
             "line": {
              "color": "#E5ECF6",
              "width": 0.5
             }
            },
            "type": "bar"
           }
          ],
          "barpolar": [
           {
            "marker": {
             "line": {
              "color": "#E5ECF6",
              "width": 0.5
             }
            },
            "type": "barpolar"
           }
          ],
          "carpet": [
           {
            "aaxis": {
             "endlinecolor": "#2a3f5f",
             "gridcolor": "white",
             "linecolor": "white",
             "minorgridcolor": "white",
             "startlinecolor": "#2a3f5f"
            },
            "baxis": {
             "endlinecolor": "#2a3f5f",
             "gridcolor": "white",
             "linecolor": "white",
             "minorgridcolor": "white",
             "startlinecolor": "#2a3f5f"
            },
            "type": "carpet"
           }
          ],
          "choropleth": [
           {
            "colorbar": {
             "outlinewidth": 0,
             "ticks": ""
            },
            "type": "choropleth"
           }
          ],
          "contour": [
           {
            "colorbar": {
             "outlinewidth": 0,
             "ticks": ""
            },
            "colorscale": [
             [
              0,
              "#0d0887"
             ],
             [
              0.1111111111111111,
              "#46039f"
             ],
             [
              0.2222222222222222,
              "#7201a8"
             ],
             [
              0.3333333333333333,
              "#9c179e"
             ],
             [
              0.4444444444444444,
              "#bd3786"
             ],
             [
              0.5555555555555556,
              "#d8576b"
             ],
             [
              0.6666666666666666,
              "#ed7953"
             ],
             [
              0.7777777777777778,
              "#fb9f3a"
             ],
             [
              0.8888888888888888,
              "#fdca26"
             ],
             [
              1,
              "#f0f921"
             ]
            ],
            "type": "contour"
           }
          ],
          "contourcarpet": [
           {
            "colorbar": {
             "outlinewidth": 0,
             "ticks": ""
            },
            "type": "contourcarpet"
           }
          ],
          "heatmap": [
           {
            "colorbar": {
             "outlinewidth": 0,
             "ticks": ""
            },
            "colorscale": [
             [
              0,
              "#0d0887"
             ],
             [
              0.1111111111111111,
              "#46039f"
             ],
             [
              0.2222222222222222,
              "#7201a8"
             ],
             [
              0.3333333333333333,
              "#9c179e"
             ],
             [
              0.4444444444444444,
              "#bd3786"
             ],
             [
              0.5555555555555556,
              "#d8576b"
             ],
             [
              0.6666666666666666,
              "#ed7953"
             ],
             [
              0.7777777777777778,
              "#fb9f3a"
             ],
             [
              0.8888888888888888,
              "#fdca26"
             ],
             [
              1,
              "#f0f921"
             ]
            ],
            "type": "heatmap"
           }
          ],
          "heatmapgl": [
           {
            "colorbar": {
             "outlinewidth": 0,
             "ticks": ""
            },
            "colorscale": [
             [
              0,
              "#0d0887"
             ],
             [
              0.1111111111111111,
              "#46039f"
             ],
             [
              0.2222222222222222,
              "#7201a8"
             ],
             [
              0.3333333333333333,
              "#9c179e"
             ],
             [
              0.4444444444444444,
              "#bd3786"
             ],
             [
              0.5555555555555556,
              "#d8576b"
             ],
             [
              0.6666666666666666,
              "#ed7953"
             ],
             [
              0.7777777777777778,
              "#fb9f3a"
             ],
             [
              0.8888888888888888,
              "#fdca26"
             ],
             [
              1,
              "#f0f921"
             ]
            ],
            "type": "heatmapgl"
           }
          ],
          "histogram": [
           {
            "marker": {
             "colorbar": {
              "outlinewidth": 0,
              "ticks": ""
             }
            },
            "type": "histogram"
           }
          ],
          "histogram2d": [
           {
            "colorbar": {
             "outlinewidth": 0,
             "ticks": ""
            },
            "colorscale": [
             [
              0,
              "#0d0887"
             ],
             [
              0.1111111111111111,
              "#46039f"
             ],
             [
              0.2222222222222222,
              "#7201a8"
             ],
             [
              0.3333333333333333,
              "#9c179e"
             ],
             [
              0.4444444444444444,
              "#bd3786"
             ],
             [
              0.5555555555555556,
              "#d8576b"
             ],
             [
              0.6666666666666666,
              "#ed7953"
             ],
             [
              0.7777777777777778,
              "#fb9f3a"
             ],
             [
              0.8888888888888888,
              "#fdca26"
             ],
             [
              1,
              "#f0f921"
             ]
            ],
            "type": "histogram2d"
           }
          ],
          "histogram2dcontour": [
           {
            "colorbar": {
             "outlinewidth": 0,
             "ticks": ""
            },
            "colorscale": [
             [
              0,
              "#0d0887"
             ],
             [
              0.1111111111111111,
              "#46039f"
             ],
             [
              0.2222222222222222,
              "#7201a8"
             ],
             [
              0.3333333333333333,
              "#9c179e"
             ],
             [
              0.4444444444444444,
              "#bd3786"
             ],
             [
              0.5555555555555556,
              "#d8576b"
             ],
             [
              0.6666666666666666,
              "#ed7953"
             ],
             [
              0.7777777777777778,
              "#fb9f3a"
             ],
             [
              0.8888888888888888,
              "#fdca26"
             ],
             [
              1,
              "#f0f921"
             ]
            ],
            "type": "histogram2dcontour"
           }
          ],
          "mesh3d": [
           {
            "colorbar": {
             "outlinewidth": 0,
             "ticks": ""
            },
            "type": "mesh3d"
           }
          ],
          "parcoords": [
           {
            "line": {
             "colorbar": {
              "outlinewidth": 0,
              "ticks": ""
             }
            },
            "type": "parcoords"
           }
          ],
          "scatter": [
           {
            "marker": {
             "colorbar": {
              "outlinewidth": 0,
              "ticks": ""
             }
            },
            "type": "scatter"
           }
          ],
          "scatter3d": [
           {
            "line": {
             "colorbar": {
              "outlinewidth": 0,
              "ticks": ""
             }
            },
            "marker": {
             "colorbar": {
              "outlinewidth": 0,
              "ticks": ""
             }
            },
            "type": "scatter3d"
           }
          ],
          "scattercarpet": [
           {
            "marker": {
             "colorbar": {
              "outlinewidth": 0,
              "ticks": ""
             }
            },
            "type": "scattercarpet"
           }
          ],
          "scattergeo": [
           {
            "marker": {
             "colorbar": {
              "outlinewidth": 0,
              "ticks": ""
             }
            },
            "type": "scattergeo"
           }
          ],
          "scattergl": [
           {
            "marker": {
             "colorbar": {
              "outlinewidth": 0,
              "ticks": ""
             }
            },
            "type": "scattergl"
           }
          ],
          "scattermapbox": [
           {
            "marker": {
             "colorbar": {
              "outlinewidth": 0,
              "ticks": ""
             }
            },
            "type": "scattermapbox"
           }
          ],
          "scatterpolar": [
           {
            "marker": {
             "colorbar": {
              "outlinewidth": 0,
              "ticks": ""
             }
            },
            "type": "scatterpolar"
           }
          ],
          "scatterpolargl": [
           {
            "marker": {
             "colorbar": {
              "outlinewidth": 0,
              "ticks": ""
             }
            },
            "type": "scatterpolargl"
           }
          ],
          "scatterternary": [
           {
            "marker": {
             "colorbar": {
              "outlinewidth": 0,
              "ticks": ""
             }
            },
            "type": "scatterternary"
           }
          ],
          "surface": [
           {
            "colorbar": {
             "outlinewidth": 0,
             "ticks": ""
            },
            "colorscale": [
             [
              0,
              "#0d0887"
             ],
             [
              0.1111111111111111,
              "#46039f"
             ],
             [
              0.2222222222222222,
              "#7201a8"
             ],
             [
              0.3333333333333333,
              "#9c179e"
             ],
             [
              0.4444444444444444,
              "#bd3786"
             ],
             [
              0.5555555555555556,
              "#d8576b"
             ],
             [
              0.6666666666666666,
              "#ed7953"
             ],
             [
              0.7777777777777778,
              "#fb9f3a"
             ],
             [
              0.8888888888888888,
              "#fdca26"
             ],
             [
              1,
              "#f0f921"
             ]
            ],
            "type": "surface"
           }
          ],
          "table": [
           {
            "cells": {
             "fill": {
              "color": "#EBF0F8"
             },
             "line": {
              "color": "white"
             }
            },
            "header": {
             "fill": {
              "color": "#C8D4E3"
             },
             "line": {
              "color": "white"
             }
            },
            "type": "table"
           }
          ]
         },
         "layout": {
          "annotationdefaults": {
           "arrowcolor": "#2a3f5f",
           "arrowhead": 0,
           "arrowwidth": 1
          },
          "colorscale": {
           "diverging": [
            [
             0,
             "#8e0152"
            ],
            [
             0.1,
             "#c51b7d"
            ],
            [
             0.2,
             "#de77ae"
            ],
            [
             0.3,
             "#f1b6da"
            ],
            [
             0.4,
             "#fde0ef"
            ],
            [
             0.5,
             "#f7f7f7"
            ],
            [
             0.6,
             "#e6f5d0"
            ],
            [
             0.7,
             "#b8e186"
            ],
            [
             0.8,
             "#7fbc41"
            ],
            [
             0.9,
             "#4d9221"
            ],
            [
             1,
             "#276419"
            ]
           ],
           "sequential": [
            [
             0,
             "#0d0887"
            ],
            [
             0.1111111111111111,
             "#46039f"
            ],
            [
             0.2222222222222222,
             "#7201a8"
            ],
            [
             0.3333333333333333,
             "#9c179e"
            ],
            [
             0.4444444444444444,
             "#bd3786"
            ],
            [
             0.5555555555555556,
             "#d8576b"
            ],
            [
             0.6666666666666666,
             "#ed7953"
            ],
            [
             0.7777777777777778,
             "#fb9f3a"
            ],
            [
             0.8888888888888888,
             "#fdca26"
            ],
            [
             1,
             "#f0f921"
            ]
           ],
           "sequentialminus": [
            [
             0,
             "#0d0887"
            ],
            [
             0.1111111111111111,
             "#46039f"
            ],
            [
             0.2222222222222222,
             "#7201a8"
            ],
            [
             0.3333333333333333,
             "#9c179e"
            ],
            [
             0.4444444444444444,
             "#bd3786"
            ],
            [
             0.5555555555555556,
             "#d8576b"
            ],
            [
             0.6666666666666666,
             "#ed7953"
            ],
            [
             0.7777777777777778,
             "#fb9f3a"
            ],
            [
             0.8888888888888888,
             "#fdca26"
            ],
            [
             1,
             "#f0f921"
            ]
           ]
          },
          "colorway": [
           "#636efa",
           "#EF553B",
           "#00cc96",
           "#ab63fa",
           "#FFA15A",
           "#19d3f3",
           "#FF6692",
           "#B6E880",
           "#FF97FF",
           "#FECB52"
          ],
          "font": {
           "color": "#2a3f5f"
          },
          "geo": {
           "bgcolor": "white",
           "lakecolor": "white",
           "landcolor": "#E5ECF6",
           "showlakes": true,
           "showland": true,
           "subunitcolor": "white"
          },
          "hoverlabel": {
           "align": "left"
          },
          "hovermode": "closest",
          "mapbox": {
           "style": "light"
          },
          "paper_bgcolor": "white",
          "plot_bgcolor": "#E5ECF6",
          "polar": {
           "angularaxis": {
            "gridcolor": "white",
            "linecolor": "white",
            "ticks": ""
           },
           "bgcolor": "#E5ECF6",
           "radialaxis": {
            "gridcolor": "white",
            "linecolor": "white",
            "ticks": ""
           }
          },
          "scene": {
           "xaxis": {
            "backgroundcolor": "#E5ECF6",
            "gridcolor": "white",
            "gridwidth": 2,
            "linecolor": "white",
            "showbackground": true,
            "ticks": "",
            "zerolinecolor": "white"
           },
           "yaxis": {
            "backgroundcolor": "#E5ECF6",
            "gridcolor": "white",
            "gridwidth": 2,
            "linecolor": "white",
            "showbackground": true,
            "ticks": "",
            "zerolinecolor": "white"
           },
           "zaxis": {
            "backgroundcolor": "#E5ECF6",
            "gridcolor": "white",
            "gridwidth": 2,
            "linecolor": "white",
            "showbackground": true,
            "ticks": "",
            "zerolinecolor": "white"
           }
          },
          "shapedefaults": {
           "line": {
            "color": "#2a3f5f"
           }
          },
          "ternary": {
           "aaxis": {
            "gridcolor": "white",
            "linecolor": "white",
            "ticks": ""
           },
           "baxis": {
            "gridcolor": "white",
            "linecolor": "white",
            "ticks": ""
           },
           "bgcolor": "#E5ECF6",
           "caxis": {
            "gridcolor": "white",
            "linecolor": "white",
            "ticks": ""
           }
          },
          "title": {
           "x": 0.05
          },
          "xaxis": {
           "automargin": true,
           "gridcolor": "white",
           "linecolor": "white",
           "ticks": "",
           "zerolinecolor": "white",
           "zerolinewidth": 2
          },
          "yaxis": {
           "automargin": true,
           "gridcolor": "white",
           "linecolor": "white",
           "ticks": "",
           "zerolinecolor": "white",
           "zerolinewidth": 2
          }
         }
        },
        "title": {
         "text": "Environment vs. Social Score"
        },
        "xaxis": {
         "gridwidth": 2,
         "range": [
          0,
          100
         ],
         "ticklen": 5,
         "title": {
          "text": "Environment"
         },
         "zeroline": true
        },
        "yaxis": {
         "gridwidth": 2,
         "range": [
          0,
          100
         ],
         "ticklen": 5,
         "title": {
          "text": "Social"
         }
        }
       }
      },
      "text/html": [
       "<div>\n",
       "        \n",
       "        \n",
       "            <div id=\"1402f2ea-bda2-427b-90f5-f038d9d3aae6\" class=\"plotly-graph-div\" style=\"height:525px; width:100%;\"></div>\n",
       "            <script type=\"text/javascript\">\n",
       "                require([\"plotly\"], function(Plotly) {\n",
       "                    window.PLOTLYENV=window.PLOTLYENV || {};\n",
       "                    \n",
       "                if (document.getElementById(\"1402f2ea-bda2-427b-90f5-f038d9d3aae6\")) {\n",
       "                    Plotly.newPlot(\n",
       "                        '1402f2ea-bda2-427b-90f5-f038d9d3aae6',\n",
       "                        [{\"marker\": {\"color\": [0, 1, 1, 0, 2, 1, 0, 0, 2, 0, 1, 2, 2, 0, 1, 0, 0, 1, 0, 0, 1, 1, 1, 1, 2, 2, 1, 2, 1, 0, 0, 0, 2, 0, 1, 1, 2, 2, 2, 2, 1, 0, 2, 2, 2, 0, 0, 0, 1, 1, 0, 0, 1, 1, 1, 2, 2, 1, 0, 0, 2, 2, 2, 2, 1, 1, 0, 1, 1, 2, 2, 2, 0, 1, 2, 2, 1, 2, 1, 1, 2, 1, 0, 0, 0, 1, 0, 0, 0, 1, 2, 0, 0, 2, 0, 2, 1, 0, 2, 2], \"colorscale\": [[0.0, \"rgb(12,51,131)\"], [0.25, \"rgb(10,136,186)\"], [0.5, \"rgb(242,211,56)\"], [0.75, \"rgb(242,143,56)\"], [1.0, \"rgb(217,30,30)\"]]}, \"mode\": \"markers\", \"name\": \"markers\", \"text\": [\"VYMW\", \"CUMT\", \"LITS\", \"TGOY\", \"BQVJ\", \"IENH\", \"HGTH\", \"IPAZ\", \"TVYW\", \"NEPH\", \"IJQK\", \"CFYG\", \"EJRV\", \"CIJH\", \"XDEK\", \"ZLNV\", \"LHLA\", \"QZAW\", \"EINR\", \"SLQG\", \"ZDJX\", \"XMPS\", \"JEBB\", \"KCFU\", \"ZRWK\", \"QAGZ\", \"KGQD\", \"MWAE\", \"HOYO\", \"CCTJ\", \"DFFE\", \"XIMS\", \"QNTS\", \"WXGM\", \"RWQA\", \"ESQD\", \"RKLT\", \"YLMN\", \"TXZN\", \"BYFQ\", \"ABZO\", \"VSTA\", \"NBWX\", \"IDFW\", \"GPDA\", \"QHIV\", \"TVLF\", \"HUCN\", \"SJXV\", \"MMEF\", \"ZOPH\", \"HEBA\", \"MHRR\", \"BFDM\", \"XPQS\", \"HGAZ\", \"PQNM\", \"KPXE\", \"QKAS\", \"GUMF\", \"XASK\", \"AVBP\", \"MAFY\", \"EEAO\", \"YOYU\", \"KYVW\", \"BYDA\", \"TREH\", \"EIFS\", \"EYGF\", \"PQDW\", \"YIOB\", \"AEBJ\", \"PXUX\", \"NSTQ\", \"PHSR\", \"TZHB\", \"MTYK\", \"FYIO\", \"QCLW\", \"XSLL\", \"EGAD\", \"BHJG\", \"EXCL\", \"WVSV\", \"OVQR\", \"WOLE\", \"WBOS\", \"CNRM\", \"PXYX\", \"EKNE\", \"CVGW\", \"GZMU\", \"AVVS\", \"RSBE\", \"NWBM\", \"WFGX\", \"BJOP\", \"KVOA\", \"GNZS\"], \"type\": \"scatter\", \"x\": [7.22897757696946, 93.78967620499026, 89.95325071703262, 18.346130402985317, 54.01718517379213, 86.09457222606645, 1.1867463045234992, 16.024924980838463, 47.718001043772354, 3.616502829361864, 65.07602730716147, 28.45246704581345, 62.72454680574387, 24.437990750928698, 79.96588743985103, -4.204997165863297, 6.622747537739003, 91.75162072693225, 21.20646218896342, 17.104011709258028, 83.70018644634408, 102.55854068493262, 82.25171239863273, 93.54544764690303, 53.37691895910333, 46.14197248031894, 82.00009242676191, 32.17253117612091, 84.11272165850485, 5.8439464581189835, 7.384620848206818, -11.612361381841808, 53.75103862626557, 5.218754765636214, 86.00516373930898, 76.93746053801634, 65.43689971225064, 56.283909181893165, 57.35102402258821, 66.67497897110161, 79.74379680570907, 9.442558478629671, 24.682293345720417, 33.4007168580393, 47.409520272708434, 2.8293495720486037, 14.015292350020195, -1.4768433969308958, 91.73932522470528, 97.41457074873531, 10.654944995033844, -0.5409784019523993, 93.00303413125214, 98.22984607060714, 82.07168621817723, 47.991960062722605, 65.06355272807896, 116.27156116209076, 3.6064158688410206, 7.051056615115075, 55.22621369497116, 61.31471778839962, 39.628968896283574, 38.58320523552335, 75.55331503628014, 85.35741294980194, 8.00742681040002, 92.47093457314361, 78.46317510887594, 47.26042200058481, 50.95589495347416, 36.6839749795526, 19.508708648702495, 95.03804162739348, 47.64435230956756, 45.395247641742735, 93.95302288431859, 55.05302587804549, 87.14207199350578, 79.03041523656879, 61.362728005153386, 92.53275333043692, 2.4797605179777262, 21.564469830111985, 4.214540641833391, 95.75917940730001, 23.854407474129612, 5.30002299194044, 9.849016122554826, 80.65877411686597, 50.35661492979028, 19.895039105987465, 12.626595463463019, 34.739641413739406, 12.072653518308499, 55.587143675415945, 95.35995083704789, 17.602662290506675, 62.55060355353774, 48.30535753889664], \"y\": [29.688266428054185, 104.53366483724673, 82.88526335713411, 21.677893504329155, 69.29104282569081, 85.92646121003476, 3.699763892838339, 17.447557370042286, 58.20961435613249, -2.348468196590993, 99.14531802200574, 42.788083881859016, 38.182560379264615, 11.381040855547054, 105.55195286295972, 9.466207730876404, 21.683920212458546, 83.90435650678818, 25.00116639996456, 11.233925827814629, 101.2984325215474, 82.0677649146767, 81.52754725930426, 82.73388287158389, 47.13957049871365, 48.919360299473894, 102.20137818024942, 53.5496457334137, 96.04469954782529, 28.029889610082304, -0.2501513726021649, 6.234836646790442, 56.641917593640144, 11.058761084388912, 89.30122595828634, 76.96457448919934, 63.107353310648975, 42.13324338442462, 55.6804928414883, 61.22323607086491, 92.16380552720187, 6.213339437231256, 35.98961188765741, 34.72101682873407, 45.286416729838066, -0.20652670503595694, -6.899602597914885, 16.0628946680258, 93.97797727990955, 103.68625709334316, -11.990165692021655, 3.8668756552716896, 110.72166811857687, 99.84632366587539, 97.79922866818298, 49.18080856454414, 65.68500194544497, 91.92244336693783, -6.965412819188462, 0.7248059568622711, 68.26056220547775, 34.170862090932516, 48.52305176565531, 46.31775037172166, 90.61604130698075, 66.6512009156631, 13.519042459060152, 63.544863177438984, 96.9490715951539, 43.3397803944048, 43.940817112241454, 41.69915024493974, 17.787020856210265, 96.84661114537245, 44.737857830576, 42.86893490548943, 90.98200378105696, 53.202414919999875, 94.62228160664799, 93.59738580861784, 41.105484655892276, 80.585028383893, 27.405530662881784, 6.183926923498646, 20.86503698526551, 101.00237348922087, 7.298184992084369, 13.982712432050718, 14.813603553195232, 101.6673855564492, 60.98120214279017, -3.0635664797576307, 3.6736959510767084, 41.140257591836544, 5.803961212914253, 46.18949100328689, 87.97416815263922, -1.5533158710796364, 57.20486238945819, 71.5459492482261]}],\n",
       "                        {\"hovermode\": \"closest\", \"template\": {\"data\": {\"bar\": [{\"error_x\": {\"color\": \"#2a3f5f\"}, \"error_y\": {\"color\": \"#2a3f5f\"}, \"marker\": {\"line\": {\"color\": \"#E5ECF6\", \"width\": 0.5}}, \"type\": \"bar\"}], \"barpolar\": [{\"marker\": {\"line\": {\"color\": \"#E5ECF6\", \"width\": 0.5}}, \"type\": \"barpolar\"}], \"carpet\": [{\"aaxis\": {\"endlinecolor\": \"#2a3f5f\", \"gridcolor\": \"white\", \"linecolor\": \"white\", \"minorgridcolor\": \"white\", \"startlinecolor\": \"#2a3f5f\"}, \"baxis\": {\"endlinecolor\": \"#2a3f5f\", \"gridcolor\": \"white\", \"linecolor\": \"white\", \"minorgridcolor\": \"white\", \"startlinecolor\": \"#2a3f5f\"}, \"type\": \"carpet\"}], \"choropleth\": [{\"colorbar\": {\"outlinewidth\": 0, \"ticks\": \"\"}, \"type\": \"choropleth\"}], \"contour\": [{\"colorbar\": {\"outlinewidth\": 0, \"ticks\": \"\"}, \"colorscale\": [[0.0, \"#0d0887\"], [0.1111111111111111, \"#46039f\"], [0.2222222222222222, \"#7201a8\"], [0.3333333333333333, \"#9c179e\"], [0.4444444444444444, \"#bd3786\"], [0.5555555555555556, \"#d8576b\"], [0.6666666666666666, \"#ed7953\"], [0.7777777777777778, \"#fb9f3a\"], [0.8888888888888888, \"#fdca26\"], [1.0, \"#f0f921\"]], \"type\": \"contour\"}], \"contourcarpet\": [{\"colorbar\": {\"outlinewidth\": 0, \"ticks\": \"\"}, \"type\": \"contourcarpet\"}], \"heatmap\": [{\"colorbar\": {\"outlinewidth\": 0, \"ticks\": \"\"}, \"colorscale\": [[0.0, \"#0d0887\"], [0.1111111111111111, \"#46039f\"], [0.2222222222222222, \"#7201a8\"], [0.3333333333333333, \"#9c179e\"], [0.4444444444444444, \"#bd3786\"], [0.5555555555555556, \"#d8576b\"], [0.6666666666666666, \"#ed7953\"], [0.7777777777777778, \"#fb9f3a\"], [0.8888888888888888, \"#fdca26\"], [1.0, \"#f0f921\"]], \"type\": \"heatmap\"}], \"heatmapgl\": [{\"colorbar\": {\"outlinewidth\": 0, \"ticks\": \"\"}, \"colorscale\": [[0.0, \"#0d0887\"], [0.1111111111111111, \"#46039f\"], [0.2222222222222222, \"#7201a8\"], [0.3333333333333333, \"#9c179e\"], [0.4444444444444444, \"#bd3786\"], [0.5555555555555556, \"#d8576b\"], [0.6666666666666666, \"#ed7953\"], [0.7777777777777778, \"#fb9f3a\"], [0.8888888888888888, \"#fdca26\"], [1.0, \"#f0f921\"]], \"type\": \"heatmapgl\"}], \"histogram\": [{\"marker\": {\"colorbar\": {\"outlinewidth\": 0, \"ticks\": \"\"}}, \"type\": \"histogram\"}], \"histogram2d\": [{\"colorbar\": {\"outlinewidth\": 0, \"ticks\": \"\"}, \"colorscale\": [[0.0, \"#0d0887\"], [0.1111111111111111, \"#46039f\"], [0.2222222222222222, \"#7201a8\"], [0.3333333333333333, \"#9c179e\"], [0.4444444444444444, \"#bd3786\"], [0.5555555555555556, \"#d8576b\"], [0.6666666666666666, \"#ed7953\"], [0.7777777777777778, \"#fb9f3a\"], [0.8888888888888888, \"#fdca26\"], [1.0, \"#f0f921\"]], \"type\": \"histogram2d\"}], \"histogram2dcontour\": [{\"colorbar\": {\"outlinewidth\": 0, \"ticks\": \"\"}, \"colorscale\": [[0.0, \"#0d0887\"], [0.1111111111111111, \"#46039f\"], [0.2222222222222222, \"#7201a8\"], [0.3333333333333333, \"#9c179e\"], [0.4444444444444444, \"#bd3786\"], [0.5555555555555556, \"#d8576b\"], [0.6666666666666666, \"#ed7953\"], [0.7777777777777778, \"#fb9f3a\"], [0.8888888888888888, \"#fdca26\"], [1.0, \"#f0f921\"]], \"type\": \"histogram2dcontour\"}], \"mesh3d\": [{\"colorbar\": {\"outlinewidth\": 0, \"ticks\": \"\"}, \"type\": \"mesh3d\"}], \"parcoords\": [{\"line\": {\"colorbar\": {\"outlinewidth\": 0, \"ticks\": \"\"}}, \"type\": \"parcoords\"}], \"scatter\": [{\"marker\": {\"colorbar\": {\"outlinewidth\": 0, \"ticks\": \"\"}}, \"type\": \"scatter\"}], \"scatter3d\": [{\"line\": {\"colorbar\": {\"outlinewidth\": 0, \"ticks\": \"\"}}, \"marker\": {\"colorbar\": {\"outlinewidth\": 0, \"ticks\": \"\"}}, \"type\": \"scatter3d\"}], \"scattercarpet\": [{\"marker\": {\"colorbar\": {\"outlinewidth\": 0, \"ticks\": \"\"}}, \"type\": \"scattercarpet\"}], \"scattergeo\": [{\"marker\": {\"colorbar\": {\"outlinewidth\": 0, \"ticks\": \"\"}}, \"type\": \"scattergeo\"}], \"scattergl\": [{\"marker\": {\"colorbar\": {\"outlinewidth\": 0, \"ticks\": \"\"}}, \"type\": \"scattergl\"}], \"scattermapbox\": [{\"marker\": {\"colorbar\": {\"outlinewidth\": 0, \"ticks\": \"\"}}, \"type\": \"scattermapbox\"}], \"scatterpolar\": [{\"marker\": {\"colorbar\": {\"outlinewidth\": 0, \"ticks\": \"\"}}, \"type\": \"scatterpolar\"}], \"scatterpolargl\": [{\"marker\": {\"colorbar\": {\"outlinewidth\": 0, \"ticks\": \"\"}}, \"type\": \"scatterpolargl\"}], \"scatterternary\": [{\"marker\": {\"colorbar\": {\"outlinewidth\": 0, \"ticks\": \"\"}}, \"type\": \"scatterternary\"}], \"surface\": [{\"colorbar\": {\"outlinewidth\": 0, \"ticks\": \"\"}, \"colorscale\": [[0.0, \"#0d0887\"], [0.1111111111111111, \"#46039f\"], [0.2222222222222222, \"#7201a8\"], [0.3333333333333333, \"#9c179e\"], [0.4444444444444444, \"#bd3786\"], [0.5555555555555556, \"#d8576b\"], [0.6666666666666666, \"#ed7953\"], [0.7777777777777778, \"#fb9f3a\"], [0.8888888888888888, \"#fdca26\"], [1.0, \"#f0f921\"]], \"type\": \"surface\"}], \"table\": [{\"cells\": {\"fill\": {\"color\": \"#EBF0F8\"}, \"line\": {\"color\": \"white\"}}, \"header\": {\"fill\": {\"color\": \"#C8D4E3\"}, \"line\": {\"color\": \"white\"}}, \"type\": \"table\"}]}, \"layout\": {\"annotationdefaults\": {\"arrowcolor\": \"#2a3f5f\", \"arrowhead\": 0, \"arrowwidth\": 1}, \"colorscale\": {\"diverging\": [[0, \"#8e0152\"], [0.1, \"#c51b7d\"], [0.2, \"#de77ae\"], [0.3, \"#f1b6da\"], [0.4, \"#fde0ef\"], [0.5, \"#f7f7f7\"], [0.6, \"#e6f5d0\"], [0.7, \"#b8e186\"], [0.8, \"#7fbc41\"], [0.9, \"#4d9221\"], [1, \"#276419\"]], \"sequential\": [[0.0, \"#0d0887\"], [0.1111111111111111, \"#46039f\"], [0.2222222222222222, \"#7201a8\"], [0.3333333333333333, \"#9c179e\"], [0.4444444444444444, \"#bd3786\"], [0.5555555555555556, \"#d8576b\"], [0.6666666666666666, \"#ed7953\"], [0.7777777777777778, \"#fb9f3a\"], [0.8888888888888888, \"#fdca26\"], [1.0, \"#f0f921\"]], \"sequentialminus\": [[0.0, \"#0d0887\"], [0.1111111111111111, \"#46039f\"], [0.2222222222222222, \"#7201a8\"], [0.3333333333333333, \"#9c179e\"], [0.4444444444444444, \"#bd3786\"], [0.5555555555555556, \"#d8576b\"], [0.6666666666666666, \"#ed7953\"], [0.7777777777777778, \"#fb9f3a\"], [0.8888888888888888, \"#fdca26\"], [1.0, \"#f0f921\"]]}, \"colorway\": [\"#636efa\", \"#EF553B\", \"#00cc96\", \"#ab63fa\", \"#FFA15A\", \"#19d3f3\", \"#FF6692\", \"#B6E880\", \"#FF97FF\", \"#FECB52\"], \"font\": {\"color\": \"#2a3f5f\"}, \"geo\": {\"bgcolor\": \"white\", \"lakecolor\": \"white\", \"landcolor\": \"#E5ECF6\", \"showlakes\": true, \"showland\": true, \"subunitcolor\": \"white\"}, \"hoverlabel\": {\"align\": \"left\"}, \"hovermode\": \"closest\", \"mapbox\": {\"style\": \"light\"}, \"paper_bgcolor\": \"white\", \"plot_bgcolor\": \"#E5ECF6\", \"polar\": {\"angularaxis\": {\"gridcolor\": \"white\", \"linecolor\": \"white\", \"ticks\": \"\"}, \"bgcolor\": \"#E5ECF6\", \"radialaxis\": {\"gridcolor\": \"white\", \"linecolor\": \"white\", \"ticks\": \"\"}}, \"scene\": {\"xaxis\": {\"backgroundcolor\": \"#E5ECF6\", \"gridcolor\": \"white\", \"gridwidth\": 2, \"linecolor\": \"white\", \"showbackground\": true, \"ticks\": \"\", \"zerolinecolor\": \"white\"}, \"yaxis\": {\"backgroundcolor\": \"#E5ECF6\", \"gridcolor\": \"white\", \"gridwidth\": 2, \"linecolor\": \"white\", \"showbackground\": true, \"ticks\": \"\", \"zerolinecolor\": \"white\"}, \"zaxis\": {\"backgroundcolor\": \"#E5ECF6\", \"gridcolor\": \"white\", \"gridwidth\": 2, \"linecolor\": \"white\", \"showbackground\": true, \"ticks\": \"\", \"zerolinecolor\": \"white\"}}, \"shapedefaults\": {\"line\": {\"color\": \"#2a3f5f\"}}, \"ternary\": {\"aaxis\": {\"gridcolor\": \"white\", \"linecolor\": \"white\", \"ticks\": \"\"}, \"baxis\": {\"gridcolor\": \"white\", \"linecolor\": \"white\", \"ticks\": \"\"}, \"bgcolor\": \"#E5ECF6\", \"caxis\": {\"gridcolor\": \"white\", \"linecolor\": \"white\", \"ticks\": \"\"}}, \"title\": {\"x\": 0.05}, \"xaxis\": {\"automargin\": true, \"gridcolor\": \"white\", \"linecolor\": \"white\", \"ticks\": \"\", \"zerolinecolor\": \"white\", \"zerolinewidth\": 2}, \"yaxis\": {\"automargin\": true, \"gridcolor\": \"white\", \"linecolor\": \"white\", \"ticks\": \"\", \"zerolinecolor\": \"white\", \"zerolinewidth\": 2}}}, \"title\": {\"text\": \"Environment vs. Social Score\"}, \"xaxis\": {\"gridwidth\": 2, \"range\": [0, 100], \"ticklen\": 5, \"title\": {\"text\": \"Environment\"}, \"zeroline\": true}, \"yaxis\": {\"gridwidth\": 2, \"range\": [0, 100], \"ticklen\": 5, \"title\": {\"text\": \"Social\"}}},\n",
       "                        {\"responsive\": true}\n",
       "                    ).then(function(){\n",
       "                            \n",
       "var gd = document.getElementById('1402f2ea-bda2-427b-90f5-f038d9d3aae6');\n",
       "var x = new MutationObserver(function (mutations, observer) {{\n",
       "        var display = window.getComputedStyle(gd).display;\n",
       "        if (!display || display === 'none') {{\n",
       "            console.log([gd, 'removed!']);\n",
       "            Plotly.purge(gd);\n",
       "            observer.disconnect();\n",
       "        }}\n",
       "}});\n",
       "\n",
       "// Listen for the removal of the full notebook cells\n",
       "var notebookContainer = gd.closest('#notebook-container');\n",
       "if (notebookContainer) {{\n",
       "    x.observe(notebookContainer, {childList: true});\n",
       "}}\n",
       "\n",
       "// Listen for the clearing of the current output cell\n",
       "var outputEl = gd.closest('.output');\n",
       "if (outputEl) {{\n",
       "    x.observe(outputEl, {childList: true});\n",
       "}}\n",
       "\n",
       "                        })\n",
       "                };\n",
       "                });\n",
       "            </script>\n",
       "        </div>"
      ]
     },
     "metadata": {},
     "output_type": "display_data"
    }
   ],
   "source": [
    "features = ['Environment', 'Social', 'Governance']\n",
    "\n",
    "k_means_model = skc.KMeans(n_clusters=3)\n",
    "k_means_model.fit(df[features])\n",
    "centroids = k_means_model.cluster_centers_\n",
    "\n",
    "# Create traces\n",
    "\n",
    "trace0 = go.Scatter(\n",
    "    x = df['Environment'],\n",
    "    y = df['Social'],\n",
    "    text = df['Ticker'],\n",
    "    mode = 'markers',\n",
    "    name = 'markers', \n",
    "    marker = dict(\n",
    "        color = k_means_model.labels_,\n",
    "        colorscale='Portland',\n",
    "    )\n",
    ")\n",
    "\n",
    "layout = go.Layout( \n",
    "    title = 'Environment vs. Social Score',\n",
    "    hovermode = 'closest',\n",
    "    xaxis= dict(\n",
    "        title= 'Environment',\n",
    "        ticklen= 5,\n",
    "        zeroline=True,\n",
    "        gridwidth= 2,\n",
    "    ),\n",
    "    yaxis=dict(\n",
    "        title= 'Social',\n",
    "        ticklen= 5,\n",
    "        gridwidth= 2,\n",
    "    ),\n",
    "\n",
    "    \n",
    ")\n",
    "\n",
    "data = [trace0]\n",
    "\n",
    "fig= go.Figure(data=data, layout=layout)\n",
    "fig.update_xaxes(range=[0, 100])\n",
    "fig.update_yaxes(range=[0, 100])\n",
    "\n",
    "fig.show()"
   ]
  }
 ],
 "metadata": {
  "celltoolbar": "Slideshow",
  "kernelspec": {
   "display_name": "Python 3",
   "language": "python",
   "name": "python3"
  },
  "language_info": {
   "codemirror_mode": {
    "name": "ipython",
    "version": 3
   },
   "file_extension": ".py",
   "mimetype": "text/x-python",
   "name": "python",
   "nbconvert_exporter": "python",
   "pygments_lexer": "ipython3",
   "version": "3.7.3"
  }
 },
 "nbformat": 4,
 "nbformat_minor": 2
}
