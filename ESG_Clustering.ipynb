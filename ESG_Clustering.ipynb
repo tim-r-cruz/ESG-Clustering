{
 "cells": [
  {
   "cell_type": "code",
   "execution_count": 24,
   "metadata": {},
   "outputs": [
    {
     "data": {
      "text/html": [
       "<script>\n",
       "code_show=true; \n",
       "function code_toggle() {\n",
       " if (code_show){\n",
       " $('div.input').hide();\n",
       " } else {\n",
       " $('div.input').show();\n",
       " }\n",
       " code_show = !code_show\n",
       "} \n",
       "$( document ).ready(code_toggle);\n",
       "</script>\n",
       "The raw code for this IPython notebook is by default hidden for easier reading.\n",
       "To toggle on/off the raw code, click <a href=\"javascript:code_toggle()\">here</a>."
      ],
      "text/plain": [
       "<IPython.core.display.HTML object>"
      ]
     },
     "execution_count": 24,
     "metadata": {},
     "output_type": "execute_result"
    }
   ],
   "source": [
    "from IPython.display import HTML\n",
    "\n",
    "HTML('''<script>\n",
    "code_show=true; \n",
    "function code_toggle() {\n",
    " if (code_show){\n",
    " $('div.input').hide();\n",
    " } else {\n",
    " $('div.input').show();\n",
    " }\n",
    " code_show = !code_show\n",
    "} \n",
    "$( document ).ready(code_toggle);\n",
    "</script>\n",
    "The raw code for this IPython notebook is by default hidden for easier reading.\n",
    "To toggle on/off the raw code, click <a href=\"javascript:code_toggle()\">here</a>.''')"
   ]
  },
  {
   "cell_type": "code",
   "execution_count": 2,
   "metadata": {},
   "outputs": [],
   "source": [
    "import numpy as np\n",
    "import scipy as sp\n",
    "import random\n",
    "import string\n",
    "import scipy.spatial.distance as spd\n",
    "import scipy.cluster.hierarchy as sph\n",
    "import sklearn as sk\n",
    "import sklearn.metrics as skm\n",
    "import sklearn.cluster as skc\n",
    "from sklearn.cluster import KMeans\n",
    "import sklearn.decomposition as skd\n",
    "import sklearn.mixture as skmix\n",
    "import pandas as pd\n",
    "import matplotlib.pyplot as plt\n",
    "%matplotlib inline\n",
    "import seaborn as sns\n",
    "import plotly.graph_objects as go\n",
    "sns.set(style='white', color_codes=True, font_scale=1.3)"
   ]
  },
  {
   "cell_type": "markdown",
   "metadata": {
    "slideshow": {
     "slide_type": "slide"
    }
   },
   "source": [
    "### Dataset Generation: "
   ]
  },
  {
   "cell_type": "code",
   "execution_count": 8,
   "metadata": {},
   "outputs": [
    {
     "data": {
      "text/html": [
       "<div>\n",
       "<style scoped>\n",
       "    .dataframe tbody tr th:only-of-type {\n",
       "        vertical-align: middle;\n",
       "    }\n",
       "\n",
       "    .dataframe tbody tr th {\n",
       "        vertical-align: top;\n",
       "    }\n",
       "\n",
       "    .dataframe thead th {\n",
       "        text-align: right;\n",
       "    }\n",
       "</style>\n",
       "<table border=\"1\" class=\"dataframe\">\n",
       "  <thead>\n",
       "    <tr style=\"text-align: right;\">\n",
       "      <th></th>\n",
       "      <th>Environment</th>\n",
       "      <th>Social</th>\n",
       "      <th>Governance</th>\n",
       "      <th>Ticker</th>\n",
       "    </tr>\n",
       "  </thead>\n",
       "  <tbody>\n",
       "    <tr>\n",
       "      <th>0</th>\n",
       "      <td>67.922329</td>\n",
       "      <td>84.301330</td>\n",
       "      <td>87.182823</td>\n",
       "      <td>EIKL</td>\n",
       "    </tr>\n",
       "    <tr>\n",
       "      <th>1</th>\n",
       "      <td>41.645136</td>\n",
       "      <td>58.023741</td>\n",
       "      <td>36.950664</td>\n",
       "      <td>OBOR</td>\n",
       "    </tr>\n",
       "    <tr>\n",
       "      <th>2</th>\n",
       "      <td>15.324124</td>\n",
       "      <td>10.197528</td>\n",
       "      <td>28.279354</td>\n",
       "      <td>CLJC</td>\n",
       "    </tr>\n",
       "    <tr>\n",
       "      <th>3</th>\n",
       "      <td>81.115025</td>\n",
       "      <td>90.606858</td>\n",
       "      <td>98.375286</td>\n",
       "      <td>SZYB</td>\n",
       "    </tr>\n",
       "    <tr>\n",
       "      <th>4</th>\n",
       "      <td>78.972074</td>\n",
       "      <td>76.004159</td>\n",
       "      <td>77.477563</td>\n",
       "      <td>HZKZ</td>\n",
       "    </tr>\n",
       "  </tbody>\n",
       "</table>\n",
       "</div>"
      ],
      "text/plain": [
       "   Environment     Social  Governance Ticker\n",
       "0    67.922329  84.301330   87.182823   EIKL\n",
       "1    41.645136  58.023741   36.950664   OBOR\n",
       "2    15.324124  10.197528   28.279354   CLJC\n",
       "3    81.115025  90.606858   98.375286   SZYB\n",
       "4    78.972074  76.004159   77.477563   HZKZ"
      ]
     },
     "execution_count": 8,
     "metadata": {},
     "output_type": "execute_result"
    }
   ],
   "source": [
    "# Generate Random Data: \n",
    "from sklearn.datasets.samples_generator import make_blobs\n",
    "X, y = make_blobs(n_samples=50, \n",
    "                  centers=[(10, 10, 10), (50, 50, 50), (90, 90, 90)], \n",
    "                  cluster_std=10, \n",
    "                  n_features=3)\n",
    "\n",
    "df = pd.DataFrame(X, columns=['Environment', 'Social', 'Governance'])\n",
    "df['Ticker'] = [''.join(random.choices(string.ascii_uppercase, k=4)) for i in range(len(df))]\n",
    "df.head()"
   ]
  },
  {
   "cell_type": "code",
   "execution_count": 9,
   "metadata": {},
   "outputs": [],
   "source": [
    "def elbow(df, pair): \n",
    "    # Elbow method to Determine K \n",
    "    X = df \n",
    "    K = range(1,11)  # Apply kmeans 1 to 10\n",
    "    kmeans_models = [KMeans(k).fit(X) for k in K]\n",
    "    centroids = [m.cluster_centers_ for m in kmeans_models]\n",
    "    D_k = [spd.cdist(X, cent, 'euclidean') for cent in centroids]\n",
    "    cIdx = [np.argmin(D,axis=1) for D in D_k]\n",
    "    dist = [np.min(D,axis=1) for D in D_k]\n",
    "    avgWithinSS = [sum(d)/X.shape[0] for d in dist]\n",
    "\n",
    "    # plot elbow curve\n",
    "    plt.figure(figsize = (7,7))\n",
    "    plt.plot(K, avgWithinSS, 'b*-')\n",
    "    plt.xlabel('Number of clusters');\n",
    "    plt.ylabel('Average within-cluster sum of squares');\n",
    "    plt.title('Elbow for K-Means clustering');\n",
    "    plt.suptitle('{}'.format(pair))\n",
    "    plt.show()\n",
    "\n",
    "# A helper function to run and plot K-means:     \n",
    "def kmeans(df, pair, k):\n",
    "    # Fitting the K-Means model: \n",
    "    k_means_model = KMeans(n_clusters=k)\n",
    "    k_means_model.fit(df)\n",
    "    centroids = k_means_model.cluster_centers_\n",
    "    centroids\n",
    "\n",
    "    # Plot the clusters with their centroids.\n",
    "    df['cluster_labels_kmeans'] = k_means_model.labels_\n",
    "    f = sns.lmplot(x=pair[0], y=pair[1], data=df, hue = 'cluster_labels_kmeans', \n",
    "                   fit_reg=False, size=5, aspect=1.3)\n",
    "    f.ax.scatter(centroids[:,0], centroids[:,1], marker='+', s=100,\n",
    "                 linewidths=2, color='k');\n",
    "    plt.title('{}'.format(pair), fontsize=15)"
   ]
  },
  {
   "cell_type": "markdown",
   "metadata": {
    "slideshow": {
     "slide_type": "slide"
    }
   },
   "source": [
    "### Cluster Identification: "
   ]
  },
  {
   "cell_type": "code",
   "execution_count": 10,
   "metadata": {},
   "outputs": [
    {
     "data": {
      "image/png": "[encoded data removed]",
      "text/plain": [
       "<Figure size 504x504 with 1 Axes>"
      ]
     },
     "metadata": {
      "needs_background": "light"
     },
     "output_type": "display_data"
    }
   ],
   "source": [
    "elbow(df[['Environment', 'Social', 'Governance']], ['Environment', 'Social', 'Governance'])"
   ]
  },
  {
   "cell_type": "markdown",
   "metadata": {
    "slideshow": {
     "slide_type": "slide"
    }
   },
   "source": [
    "### K-Means Clustering with Interactive Visualization: "
   ]
  },
  {
   "cell_type": "code",
   "execution_count": null,
   "metadata": {},
   "outputs": [],
   "source": [
    "features = ['Environment', 'Social', 'Governance']\n",
    "\n",
    "k_means_model = skc.KMeans(n_clusters=3)\n",
    "k_means_model.fit(df[features])\n",
    "centroids = k_means_model.cluster_centers_\n",
    "\n",
    "# Create traces\n",
    "\n",
    "trace0 = go.Scatter(\n",
    "    x = df['Environment'],\n",
    "    y = df['Social'],\n",
    "    text = df['Ticker'],\n",
    "    mode = 'markers',\n",
    "    name = 'markers', \n",
    "    marker = dict(\n",
    "        color = k_means_model.labels_,\n",
    "        colorscale='Portland',\n",
    "    )\n",
    ")\n",
    "\n",
    "layout = go.Layout( \n",
    "    title = 'Environment vs. Social Score',\n",
    "    hovermode = 'closest',\n",
    "    xaxis= dict(\n",
    "        title= 'Environment',\n",
    "        ticklen= 5,\n",
    "        zeroline=True,\n",
    "        gridwidth= 2,\n",
    "    ),\n",
    "    yaxis=dict(\n",
    "        title= 'Social',\n",
    "        ticklen= 5,\n",
    "        gridwidth= 2,\n",
    "    ),\n",
    "\n",
    "    \n",
    ")\n",
    "\n",
    "data = [trace0]\n",
    "\n",
    "fig= go.Figure(data=data, layout=layout)\n",
    "fig.update_xaxes(range=[0, 100])\n",
    "fig.update_yaxes(range=[0, 100])\n",
    "\n",
    "fig.show()"
   ]
  },
  {
   "cell_type": "code",
   "execution_count": null,
   "metadata": {},
   "outputs": [],
   "source": []
  }
 ],
 "metadata": {
  "celltoolbar": "Slideshow",
  "kernelspec": {
   "display_name": "Python 3",
   "language": "python",
   "name": "python3"
  },
  "language_info": {
   "codemirror_mode": {
    "name": "ipython",
    "version": 3
   },
   "file_extension": ".py",
   "mimetype": "text/x-python",
   "name": "python",
   "nbconvert_exporter": "python",
   "pygments_lexer": "ipython3",
   "version": "3.7.3"
  }
 },
 "nbformat": 4,
 "nbformat_minor": 2
}
